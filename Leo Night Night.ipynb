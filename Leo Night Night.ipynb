{
 "cells": [
  {
   "cell_type": "markdown",
   "metadata": {},
   "source": [
    "# COMS 4995_002 Deep Learning Assignment 2"
   ]
  },
  {
   "cell_type": "markdown",
   "metadata": {},
   "source": [
    "The UNIs of our team\n",
    "\n",
    "Member 1: Saahil Jain, sj2675\n",
    "\n",
    "Member 2: Leon Stilwell, ls3223"
   ]
  },
  {
   "cell_type": "code",
   "execution_count": 1,
   "metadata": {
    "collapsed": false
   },
   "outputs": [
    {
     "name": "stderr",
     "output_type": "stream",
     "text": [
      "//anaconda/lib/python3.5/importlib/_bootstrap.py:222: RuntimeWarning: compiletime version 3.6 of module 'tensorflow.python.framework.fast_tensor_util' does not match runtime version 3.5\n",
      "  return f(*args, **kwds)\n"
     ]
    }
   ],
   "source": [
    "%matplotlib inline\n",
    "import matplotlib.pyplot as plt\n",
    "import numpy as np\n",
    "import scipy.misc\n",
    "import glob\n",
    "import sys\n",
    "import tensorflow as tf"
   ]
  },
  {
   "cell_type": "code",
   "execution_count": 2,
   "metadata": {
    "collapsed": true
   },
   "outputs": [],
   "source": [
    "np.random.seed(1)"
   ]
  },
  {
   "cell_type": "code",
   "execution_count": 3,
   "metadata": {
    "code_folding": [
     1,
     6,
     14
    ],
    "collapsed": true
   },
   "outputs": [],
   "source": [
    "# helper functions\n",
    "def get_img_array(path):\n",
    "    \"\"\"\n",
    "    Given path of image, returns it's numpy array\n",
    "    \"\"\"\n",
    "    return scipy.misc.imread(path)\n",
    "\n",
    "def get_files(folder):\n",
    "    \"\"\"\n",
    "    Given path to folder, returns list of files in it\n",
    "    \"\"\"\n",
    "    filenames = [file for file in glob.glob(folder+'*/*')]\n",
    "    filenames.sort()\n",
    "    return filenames\n",
    "\n",
    "def get_label(filepath, label2id):\n",
    "    \"\"\"\n",
    "    Files are assumed to be labeled as: /path/to/file/999_frog.png\n",
    "    Returns label for a filepath\n",
    "    \"\"\"\n",
    "    tokens = filepath.split('/')\n",
    "    label = tokens[-1].split('_')[1][:-4]\n",
    "    if label in label2id:\n",
    "        return label2id[label]\n",
    "    else:\n",
    "        sys.exit(\"Invalid label: \" + label)"
   ]
  },
  {
   "cell_type": "code",
   "execution_count": 6,
   "metadata": {
    "code_folding": [
     2,
     14,
     22,
     37,
     57,
     68
    ],
    "collapsed": true
   },
   "outputs": [],
   "source": [
    "#functions to load data\n",
    "\n",
    "def get_labels(folder, label2id):\n",
    "    \"\"\"\n",
    "    Returns vector of labels extracted from filenames of all files in folder\n",
    "    :param folder: path to data folder\n",
    "    :param label2id: mapping of text labels to numeric ids. (Eg: automobile -> 0)\n",
    "    \"\"\"\n",
    "    files = get_files(folder)\n",
    "    y = []\n",
    "    for f in files:\n",
    "        y.append(get_label(f,label2id))\n",
    "    return np.array(y)\n",
    "\n",
    "def one_hot(y, num_classes=10):\n",
    "    \"\"\"\n",
    "    Converts each label index in y to vector with one_hot encoding\n",
    "    \"\"\"\n",
    "    y_one_hot = np.zeros((num_classes, y.shape[0]))\n",
    "    y_one_hot[y, range(y.shape[0])] = 1\n",
    "    return y_one_hot\n",
    "\n",
    "def get_label_mapping(label_file):\n",
    "    \"\"\"\n",
    "    Returns mappings of label to index and index to label\n",
    "    The input file has list of labels, each on a separate line.\n",
    "    \"\"\"\n",
    "    with open(label_file, 'r') as f:\n",
    "        id2label = f.readlines()\n",
    "        id2label = [l.strip() for l in id2label]\n",
    "    label2id = {}\n",
    "    count = 0\n",
    "    for label in id2label:\n",
    "        label2id[label] = count\n",
    "        count += 1\n",
    "    return id2label, label2id\n",
    "\n",
    "def get_images(folder, testFile = False):\n",
    "    \"\"\"\n",
    "    returns numpy array of all samples in folder\n",
    "    each column is a sample resized to 30x30 and flattened\n",
    "    \"\"\"\n",
    "    files = get_files(folder)\n",
    "    if (testFile):\n",
    "        files.sort(key = lambda x: int(x.split(\"/\")[2].split(\".\")[0]))\n",
    "    images = []\n",
    "    count = 0\n",
    "    \n",
    "    for f in files:\n",
    "        count += 1\n",
    "        if count % 10000 == 0:\n",
    "            print(\"Loaded {}/{}\".format(count,len(files)))\n",
    "        img_arr = get_img_array(f)\n",
    "        img_arr = img_arr.flatten() / 255.0\n",
    "        images.append(img_arr)\n",
    "    X = np.column_stack(images)\n",
    "\n",
    "    return X\n",
    "\n",
    "def get_train_data(data_root_path):\n",
    "    \"\"\"\n",
    "    Return X and y\n",
    "    \"\"\"\n",
    "    train_data_path = data_root_path + 'train'\n",
    "    id2label, label2id = get_label_mapping(data_root_path+'labels.txt')\n",
    "    print(label2id)\n",
    "    X = get_images(train_data_path)\n",
    "    y = get_labels(train_data_path, label2id)\n",
    "    return X, y\n",
    "\n",
    "def save_predictions(filename, y):\n",
    "    \"\"\"\n",
    "    Dumps y into .npy file\n",
    "    \"\"\"\n",
    "    np.save(filename, y)"
   ]
  },
  {
   "cell_type": "markdown",
   "metadata": {},
   "source": [
    "# Extract / format data"
   ]
  },
  {
   "cell_type": "code",
   "execution_count": 7,
   "metadata": {
    "collapsed": false
   },
   "outputs": [
    {
     "name": "stdout",
     "output_type": "stream",
     "text": [
      "{'dog': 5, 'horse': 7, 'deer': 4, 'ship': 8, 'bird': 2, 'frog': 6, 'truck': 9, 'airplane': 0, 'cat': 3, 'automobile': 1}\n",
      "Loaded 10000/50000\n",
      "Loaded 20000/50000\n",
      "Loaded 30000/50000\n",
      "Loaded 40000/50000\n",
      "Loaded 50000/50000\n",
      "Loaded 10000/10000\n",
      "Data loading done\n"
     ]
    }
   ],
   "source": [
    "data_root_path = \"cifar10-hw2/\"\n",
    "X_train, y_train = get_train_data(data_root_path)\n",
    "X_test = get_images(data_root_path + 'test', True)\n",
    "print('Data loading done')"
   ]
  },
  {
   "cell_type": "code",
   "execution_count": 8,
   "metadata": {
    "collapsed": false
   },
   "outputs": [
    {
     "name": "stdout",
     "output_type": "stream",
     "text": [
      "X_train shape is: (50000, 3072)\n",
      "X_test shape is: (10000, 3072)\n",
      "y_train shape is: (50000,)\n"
     ]
    }
   ],
   "source": [
    "# Reshape data as necessary\n",
    "y_train.reshape(50000, )\n",
    "X_train = np.swapaxes(X_train,1,0)\n",
    "X_test = np.swapaxes(X_test,1,0)\n",
    "\n",
    "# Convert to Numpy array\n",
    "X_train = np.asarray(X_train,dtype = np.float32)\n",
    "X_test = np.asarray(X_test,dtype = np.float32)\n",
    "y_train = np.asarray(y_train,dtype = np.int32)\n",
    "\n",
    "# Print shapes\n",
    "print(\"X_train shape is: \" + str(X_train.shape))\n",
    "print(\"X_test shape is: \" + str(X_test.shape))\n",
    "print(\"y_train shape is: \" + str(y_train.shape))"
   ]
  },
  {
   "cell_type": "code",
   "execution_count": 9,
   "metadata": {
    "collapsed": false
   },
   "outputs": [
    {
     "name": "stdout",
     "output_type": "stream",
     "text": [
      "(45000, 3072)\n",
      "(5000, 3072)\n",
      "(5000,)\n"
     ]
    }
   ],
   "source": [
    "# Shuffle training data\n",
    "shuffledIndices = np.arange(len(X_train))\n",
    "np.random.shuffle(shuffledIndices)\n",
    "X_train = X_train[shuffledIndices]\n",
    "y_train = y_train[shuffledIndices]\n",
    "\n",
    "# Split into train and validation data\n",
    "X_validation = X_train[-5000:,:]\n",
    "X_train = X_train[:45000]\n",
    "y_validation = y_train[-5000:]\n",
    "y_train = y_train[:45000]\n",
    "\n",
    "# Print shapes\n",
    "print(X_train.shape)\n",
    "print(X_validation.shape)\n",
    "print(y_validation.shape)"
   ]
  },
  {
   "cell_type": "markdown",
   "metadata": {},
   "source": [
    "# Tensorflow Models"
   ]
  },
  {
   "cell_type": "code",
   "execution_count": 10,
   "metadata": {
    "collapsed": true
   },
   "outputs": [],
   "source": [
    "tf.logging.set_verbosity(tf.logging.INFO)\n",
    "LOGDIR = \"tmp/cifar-10/\""
   ]
  },
  {
   "cell_type": "code",
   "execution_count": 11,
   "metadata": {
    "collapsed": true
   },
   "outputs": [],
   "source": [
    "tf.reset_default_graph()\n",
    "def my_model_fn(features, labels, mode, params): \n",
    "    batch = tf.reshape(features[\"x\"],[-1,32,32,3])\n",
    "    tf.summary.image(\"image\",batch,3)\n",
    "    height = 24\n",
    "    width = 24\n",
    "    if(mode == tf.estimator.ModeKeys.TRAIN):\n",
    "        unpacked = tf.unstack(batch)\n",
    "        processed = []\n",
    "        with tf.name_scope('data_augmentation'):\n",
    "            for i in unpacked:\n",
    "                distorted_image = tf.random_crop(i,[height,width,3])\n",
    "                distorted_image = tf.image.random_flip_left_right(distorted_image)\n",
    "                distorted_image = tf.image.random_brightness(distorted_image,max_delta=63)\n",
    "                distorted_image = tf.image.random_contrast(distorted_image,lower=.2,upper=1.8)\n",
    "                # Subtract off the mean and divide by the variance of the pixels.\n",
    "                float_image = tf.image.per_image_standardization(distorted_image)\n",
    "                float_image.set_shape([height, width, 3])\n",
    "                processed.append(float_image)\n",
    "        input_layer = tf.reshape(processed,[-1,24,24,3])\n",
    "        tf.summary.image(\"augmented-image\",input_layer,3)\n",
    "    else:\n",
    "        batch = tf.reshape(batch,[1,32,32,3])\n",
    "        images = tf.unstack(batch)\n",
    "        processed = []\n",
    "        for i in images:\n",
    "            #image = tf.reshape(i,[32,32,3])\n",
    "            resized_image = tf.image.resize_image_with_crop_or_pad(i,24,24)\n",
    "            float_image = tf.image.per_image_standardization(resized_image)\n",
    "            float_image.set_shape([24, 24, 3])\n",
    "            processed.append(float_image)\n",
    "        input_layer = tf.reshape(processed,[-1,24,24,3])\n",
    "   \n",
    "    # Convolution Layer #1\n",
    "    with tf.name_scope(\"conv1\"):\n",
    "        conv1 = tf.layers.conv2d(\n",
    "          inputs=input_layer,\n",
    "          filters=64,\n",
    "          kernel_size=[5,5],\n",
    "          padding=\"same\",\n",
    "          activation=tf.nn.relu,\n",
    "          name = \"conv1\"\n",
    "          )\n",
    "        tf.summary.histogram(\"conv1\",conv1)\n",
    "        \n",
    "    # Pooling Layer #1\n",
    "    with tf.name_scope(\"pool1\"):\n",
    "        pool1 = tf.layers.max_pooling2d(inputs=conv1, pool_size = [2,2],strides = 2,name=\"pool1\")\n",
    "        tf.summary.histogram(\"pool1\",pool1)\n",
    "                \n",
    "    # Convolutional Layer #2\n",
    "    with tf.name_scope(\"conv2\"):\n",
    "        conv2 = tf.layers.conv2d(inputs = pool1, filters = 64, kernel_size = [5,5],\n",
    "                                 padding = 'same', activation = tf.nn.relu,name=\"conv2\")\n",
    "        tf.summary.histogram(\"conv2\",conv2)\n",
    "            \n",
    "    # Pooling Layer #2\n",
    "    with tf.name_scope(\"pool2\"):\n",
    "        pool2 = tf.layers.max_pooling2d(inputs = conv2, pool_size=[2,2],strides = 2,name=\"pool2\")\n",
    "        tf.summary.histogram(\"pool2\",pool2)\n",
    "    \n",
    "    # Flatten for dense layer\n",
    "    with tf.name_scope(\"pool2_flat\"):\n",
    "        pool2_flat = tf.reshape(pool2, [-1, 6*6*64])\n",
    "        tf.summary.histogram(\"pool2_flat\",pool2_flat)\n",
    "    \n",
    "    # Dense 1 Layer\n",
    "    with tf.name_scope(\"dense1\"):\n",
    "        dense1 = tf.layers.dense(inputs=pool2_flat, units=400, activation=tf.nn.relu,name=\"dense1\")\n",
    "        tf.summary.histogram(\"dense1\",dense1)\n",
    "        \n",
    "    # Dense 2 Layer\n",
    "    with tf.name_scope(\"dense2\"):\n",
    "        dense2 = tf.layers.dense(inputs=dense1, units=200, activation=tf.nn.relu,name=\"dense2\")\n",
    "        tf.summary.histogram(\"dense2\",dense2)\n",
    "    \n",
    "    # Dropout Layer\n",
    "    with tf.name_scope(\"dropout\"):\n",
    "        dropout = tf.layers.dropout(\n",
    "            inputs=dense2, rate=0.4, training=mode == tf.estimator.ModeKeys.TRAIN,name=\"dropout\")\n",
    "        tf.summary.histogram(\"dropout\",dropout)\n",
    "    \n",
    "    # Logits Layer\n",
    "    with tf.name_scope(\"logits\"):\n",
    "        logits = tf.layers.dense(inputs = dropout, units = 10,name=\"logits\")\n",
    "        tf.summary.histogram(\"logits\",logits)\n",
    "    \n",
    "    # Make predictions\n",
    "    predictions = {\n",
    "        \"classes\" : tf.argmax(input=logits, axis=1),\n",
    "        \"probabilities\" : tf.nn.softmax(logits,name = \"softmax_tensor\")\n",
    "        }\n",
    "    \n",
    "    if(mode == tf.estimator.ModeKeys.PREDICT):\n",
    "        return tf.estimator.EstimatorSpec(mode = mode, predictions=predictions)\n",
    "\n",
    "    with tf.name_scope(\"train-accuracy\"):\n",
    "        train_prediction = tf.nn.softmax(logits)\n",
    "        cast_labels = tf.cast(labels,tf.int64)\n",
    "        correct_prediction = tf.equal(tf.argmax(train_prediction, 1), cast_labels)\n",
    "      \n",
    "        accuracy = tf.reduce_mean(tf.cast(correct_prediction, tf.float32))\n",
    "        tf.summary.scalar(\"train-accuracy\", accuracy)\n",
    "        \n",
    "    loss = tf.losses.sparse_softmax_cross_entropy(labels=labels, logits=logits)\n",
    "    #l2_loss = tf.losses.get_regularization_loss()\n",
    "    #loss += l2_loss\n",
    "    \n",
    "    logging_hook = tf.train.LoggingTensorHook({\"training accuracy\" : accuracy}, \n",
    "                                              every_n_iter=100)\n",
    "\n",
    "    if mode == tf.estimator.ModeKeys.EVAL:\n",
    "        eval_metric_ops = {\n",
    "            \"accuracy\": tf.metrics.accuracy(\n",
    "                labels=labels, predictions=predictions[\"classes\"])}\n",
    "        return tf.estimator.EstimatorSpec(\n",
    "            mode=mode, loss=loss, eval_metric_ops=eval_metric_ops)\n",
    "    \n",
    "    if mode == tf.estimator.ModeKeys.TRAIN:\n",
    "        optimizer = tf.train.AdamOptimizer(learning_rate=0.001)\n",
    "        # Display gradients in Tensorboard\n",
    "        gradients = optimizer.compute_gradients(loss)\n",
    "        for index, grad in enumerate(gradients):\n",
    "            tf.summary.histogram(\"{}-grad\".format(gradients[index][1].name), gradients[index])\n",
    "        # Optimize\n",
    "        train_op = optimizer.minimize(loss = loss, global_step = tf.train.get_global_step())\n",
    "        return tf.estimator.EstimatorSpec(mode=mode, loss=loss, train_op=train_op, training_hooks = [logging_hook])\n",
    "    \n",
    "    summ = tf.summary.merge_all()\n",
    "    writer = tf.summary.FileWriter(LOGDIR)\n",
    "    writer.add_graph(sess.graph)"
   ]
  },
  {
   "cell_type": "code",
   "execution_count": null,
   "metadata": {
    "collapsed": false,
    "scrolled": true
   },
   "outputs": [
    {
     "name": "stdout",
     "output_type": "stream",
     "text": [
      "INFO:tensorflow:Using default config.\n",
      "INFO:tensorflow:Using config: {'_session_config': None, '_keep_checkpoint_every_n_hours': 10000, '_save_summary_steps': 100, '_task_id': 0, '_tf_random_seed': None, '_log_step_count_steps': 100, '_cluster_spec': <tensorflow.python.training.server_lib.ClusterSpec object at 0x1469be6d8>, '_save_checkpoints_secs': 600, '_task_type': 'worker', '_service': None, '_num_ps_replicas': 0, '_keep_checkpoint_max': 5, '_model_dir': 'tmp/cifar-10/', '_num_worker_replicas': 1, '_master': '', '_is_chief': True, '_save_checkpoints_steps': None}\n",
      "INFO:tensorflow:Summary name conv1/kernel:0-grad is illegal; using conv1/kernel_0-grad instead.\n",
      "INFO:tensorflow:Summary name conv1/bias:0-grad is illegal; using conv1/bias_0-grad instead.\n",
      "INFO:tensorflow:Summary name conv2/kernel:0-grad is illegal; using conv2/kernel_0-grad instead.\n",
      "INFO:tensorflow:Summary name conv2/bias:0-grad is illegal; using conv2/bias_0-grad instead.\n",
      "INFO:tensorflow:Summary name dense1/kernel:0-grad is illegal; using dense1/kernel_0-grad instead.\n",
      "INFO:tensorflow:Summary name dense1/bias:0-grad is illegal; using dense1/bias_0-grad instead.\n",
      "INFO:tensorflow:Summary name dense2/kernel:0-grad is illegal; using dense2/kernel_0-grad instead.\n",
      "INFO:tensorflow:Summary name dense2/bias:0-grad is illegal; using dense2/bias_0-grad instead.\n",
      "INFO:tensorflow:Summary name logits/kernel:0-grad is illegal; using logits/kernel_0-grad instead.\n",
      "INFO:tensorflow:Summary name logits/bias:0-grad is illegal; using logits/bias_0-grad instead.\n",
      "INFO:tensorflow:Create CheckpointSaverHook.\n",
      "INFO:tensorflow:Saving checkpoints for 1 into tmp/cifar-10/model.ckpt.\n",
      "INFO:tensorflow:loss = 2.3342912, step = 1\n",
      "INFO:tensorflow:training accuracy = 0.08\n",
      "INFO:tensorflow:global_step/sec: 2.21558\n",
      "INFO:tensorflow:loss = 1.9422342, step = 101 (45.139 sec)\n",
      "INFO:tensorflow:training accuracy = 0.33 (45.142 sec)\n",
      "INFO:tensorflow:global_step/sec: 2.28025\n",
      "INFO:tensorflow:loss = 1.5357903, step = 201 (43.851 sec)\n",
      "INFO:tensorflow:training accuracy = 0.47 (43.852 sec)\n",
      "INFO:tensorflow:global_step/sec: 2.2929\n",
      "INFO:tensorflow:loss = 1.6517444, step = 301 (43.622 sec)\n",
      "INFO:tensorflow:training accuracy = 0.43 (43.623 sec)\n",
      "INFO:tensorflow:global_step/sec: 2.57535\n",
      "INFO:tensorflow:loss = 1.6353393, step = 401 (38.819 sec)\n",
      "INFO:tensorflow:training accuracy = 0.44 (38.817 sec)\n",
      "INFO:tensorflow:global_step/sec: 2.76396\n",
      "INFO:tensorflow:loss = 1.6122583, step = 501 (36.185 sec)\n",
      "INFO:tensorflow:training accuracy = 0.44 (36.190 sec)\n",
      "INFO:tensorflow:global_step/sec: 2.79227\n",
      "INFO:tensorflow:loss = 1.1816914, step = 601 (35.810 sec)\n",
      "INFO:tensorflow:training accuracy = 0.62 (35.809 sec)\n",
      "INFO:tensorflow:global_step/sec: 2.90149\n",
      "INFO:tensorflow:loss = 1.3857329, step = 701 (34.464 sec)\n",
      "INFO:tensorflow:training accuracy = 0.5 (34.464 sec)\n",
      "INFO:tensorflow:global_step/sec: 2.84539\n",
      "INFO:tensorflow:loss = 1.2848169, step = 801 (35.143 sec)\n",
      "INFO:tensorflow:training accuracy = 0.58 (35.143 sec)\n",
      "INFO:tensorflow:global_step/sec: 2.86584\n",
      "INFO:tensorflow:loss = 1.4505168, step = 901 (34.895 sec)\n",
      "INFO:tensorflow:training accuracy = 0.47 (34.895 sec)\n",
      "INFO:tensorflow:global_step/sec: 2.79472\n",
      "INFO:tensorflow:loss = 1.364556, step = 1001 (35.781 sec)\n",
      "INFO:tensorflow:training accuracy = 0.57 (35.782 sec)\n",
      "INFO:tensorflow:global_step/sec: 2.90218\n",
      "INFO:tensorflow:loss = 1.1819599, step = 1101 (34.457 sec)\n",
      "INFO:tensorflow:training accuracy = 0.52 (34.455 sec)\n",
      "INFO:tensorflow:global_step/sec: 2.84463\n",
      "INFO:tensorflow:loss = 1.1881706, step = 1201 (35.154 sec)\n",
      "INFO:tensorflow:training accuracy = 0.6 (35.155 sec)\n",
      "INFO:tensorflow:global_step/sec: 2.83759\n",
      "INFO:tensorflow:loss = 1.1738878, step = 1301 (35.256 sec)\n",
      "INFO:tensorflow:training accuracy = 0.61 (35.257 sec)\n",
      "INFO:tensorflow:global_step/sec: 2.87103\n",
      "INFO:tensorflow:loss = 1.069486, step = 1401 (34.816 sec)\n",
      "INFO:tensorflow:training accuracy = 0.59 (34.814 sec)\n",
      "INFO:tensorflow:global_step/sec: 2.80381\n",
      "INFO:tensorflow:loss = 1.0275191, step = 1501 (35.668 sec)\n",
      "INFO:tensorflow:training accuracy = 0.65 (35.667 sec)\n",
      "INFO:tensorflow:global_step/sec: 2.84595\n",
      "INFO:tensorflow:loss = 1.2234751, step = 1601 (35.136 sec)\n",
      "INFO:tensorflow:training accuracy = 0.58 (35.135 sec)\n",
      "INFO:tensorflow:Saving checkpoints for 1602 into tmp/cifar-10/model.ckpt.\n",
      "INFO:tensorflow:global_step/sec: 2.4622\n",
      "INFO:tensorflow:loss = 1.0225239, step = 1701 (40.612 sec)\n",
      "INFO:tensorflow:training accuracy = 0.64 (40.613 sec)\n",
      "INFO:tensorflow:global_step/sec: 2.87015\n",
      "INFO:tensorflow:loss = 1.0755312, step = 1801 (34.843 sec)\n",
      "INFO:tensorflow:training accuracy = 0.62 (34.844 sec)\n",
      "INFO:tensorflow:global_step/sec: 2.84079\n",
      "INFO:tensorflow:loss = 1.1351713, step = 1901 (35.202 sec)\n",
      "INFO:tensorflow:training accuracy = 0.59 (35.202 sec)\n",
      "INFO:tensorflow:global_step/sec: 2.78164\n",
      "INFO:tensorflow:loss = 1.1185184, step = 2001 (35.948 sec)\n",
      "INFO:tensorflow:training accuracy = 0.65 (35.948 sec)\n",
      "INFO:tensorflow:global_step/sec: 2.86651\n",
      "INFO:tensorflow:loss = 1.0723629, step = 2101 (34.886 sec)\n",
      "INFO:tensorflow:training accuracy = 0.65 (34.885 sec)\n",
      "INFO:tensorflow:global_step/sec: 2.85467\n",
      "INFO:tensorflow:loss = 1.1455104, step = 2201 (35.037 sec)\n",
      "INFO:tensorflow:training accuracy = 0.63 (35.038 sec)\n",
      "INFO:tensorflow:global_step/sec: 2.83537\n",
      "INFO:tensorflow:loss = 1.0687336, step = 2301 (35.263 sec)\n",
      "INFO:tensorflow:training accuracy = 0.6 (35.263 sec)\n",
      "INFO:tensorflow:global_step/sec: 2.84433\n",
      "INFO:tensorflow:loss = 1.2101527, step = 2401 (35.176 sec)\n",
      "INFO:tensorflow:training accuracy = 0.65 (35.178 sec)\n",
      "INFO:tensorflow:global_step/sec: 2.84835\n",
      "INFO:tensorflow:loss = 0.9201745, step = 2501 (35.091 sec)\n",
      "INFO:tensorflow:training accuracy = 0.69 (35.087 sec)\n",
      "INFO:tensorflow:global_step/sec: 2.59793\n",
      "INFO:tensorflow:loss = 0.878703, step = 2601 (38.504 sec)\n",
      "INFO:tensorflow:training accuracy = 0.69 (38.507 sec)\n",
      "INFO:tensorflow:global_step/sec: 2.73225\n",
      "INFO:tensorflow:loss = 1.010805, step = 2701 (36.587 sec)\n",
      "INFO:tensorflow:training accuracy = 0.58 (36.584 sec)\n",
      "INFO:tensorflow:global_step/sec: 2.79512\n",
      "INFO:tensorflow:loss = 1.02738, step = 2801 (35.781 sec)\n",
      "INFO:tensorflow:training accuracy = 0.6 (35.784 sec)\n",
      "INFO:tensorflow:global_step/sec: 2.84557\n",
      "INFO:tensorflow:loss = 0.9224429, step = 2901 (35.139 sec)\n",
      "INFO:tensorflow:training accuracy = 0.69 (35.136 sec)\n",
      "INFO:tensorflow:global_step/sec: 2.82833\n",
      "INFO:tensorflow:loss = 0.8733801, step = 3001 (35.356 sec)\n",
      "INFO:tensorflow:training accuracy = 0.69 (35.355 sec)\n",
      "INFO:tensorflow:global_step/sec: 2.88884\n",
      "INFO:tensorflow:loss = 0.9294879, step = 3101 (34.616 sec)\n",
      "INFO:tensorflow:training accuracy = 0.67 (34.617 sec)\n",
      "INFO:tensorflow:global_step/sec: 2.68944\n",
      "INFO:tensorflow:loss = 1.098013, step = 3201 (37.185 sec)\n",
      "INFO:tensorflow:training accuracy = 0.63 (37.186 sec)\n",
      "INFO:tensorflow:Saving checkpoints for 3260 into tmp/cifar-10/model.ckpt.\n",
      "INFO:tensorflow:global_step/sec: 2.10715\n",
      "INFO:tensorflow:loss = 0.9303614, step = 3301 (47.457 sec)\n",
      "INFO:tensorflow:training accuracy = 0.72 (47.457 sec)\n",
      "INFO:tensorflow:global_step/sec: 2.46828\n",
      "INFO:tensorflow:loss = 1.0284358, step = 3401 (40.526 sec)\n",
      "INFO:tensorflow:training accuracy = 0.68 (40.526 sec)\n",
      "INFO:tensorflow:global_step/sec: 2.85293\n",
      "INFO:tensorflow:loss = 1.0148758, step = 3501 (35.039 sec)\n",
      "INFO:tensorflow:training accuracy = 0.66 (35.040 sec)\n",
      "INFO:tensorflow:global_step/sec: 2.89578\n",
      "INFO:tensorflow:loss = 1.1639673, step = 3601 (34.532 sec)\n",
      "INFO:tensorflow:training accuracy = 0.64 (34.533 sec)\n",
      "INFO:tensorflow:global_step/sec: 2.84812\n",
      "INFO:tensorflow:loss = 0.91650707, step = 3701 (35.112 sec)\n",
      "INFO:tensorflow:training accuracy = 0.72 (35.111 sec)\n",
      "INFO:tensorflow:global_step/sec: 2.8501\n",
      "INFO:tensorflow:loss = 1.0957044, step = 3801 (35.084 sec)\n",
      "INFO:tensorflow:training accuracy = 0.6 (35.084 sec)\n",
      "INFO:tensorflow:global_step/sec: 2.87669\n",
      "INFO:tensorflow:loss = 0.8586097, step = 3901 (34.763 sec)\n",
      "INFO:tensorflow:training accuracy = 0.66 (34.763 sec)\n",
      "INFO:tensorflow:global_step/sec: 2.45006\n",
      "INFO:tensorflow:loss = 0.97225994, step = 4001 (40.814 sec)\n",
      "INFO:tensorflow:training accuracy = 0.67 (40.814 sec)\n",
      "INFO:tensorflow:global_step/sec: 2.50691\n",
      "INFO:tensorflow:loss = 0.8370292, step = 4101 (39.891 sec)\n",
      "INFO:tensorflow:training accuracy = 0.73 (39.891 sec)\n",
      "INFO:tensorflow:global_step/sec: 2.78906\n",
      "INFO:tensorflow:loss = 1.0921799, step = 4201 (35.853 sec)\n",
      "INFO:tensorflow:training accuracy = 0.6 (35.853 sec)\n",
      "INFO:tensorflow:global_step/sec: 2.2482\n",
      "INFO:tensorflow:loss = 0.85570157, step = 4301 (44.481 sec)\n",
      "INFO:tensorflow:training accuracy = 0.7 (44.482 sec)\n",
      "INFO:tensorflow:global_step/sec: 2.48729\n",
      "INFO:tensorflow:loss = 0.93650615, step = 4401 (40.204 sec)\n",
      "INFO:tensorflow:training accuracy = 0.65 (40.204 sec)\n",
      "INFO:tensorflow:global_step/sec: 2.78856\n",
      "INFO:tensorflow:loss = 1.1462163, step = 4501 (35.860 sec)\n",
      "INFO:tensorflow:training accuracy = 0.64 (35.859 sec)\n",
      "INFO:tensorflow:global_step/sec: 2.62193\n",
      "INFO:tensorflow:loss = 0.68116957, step = 4601 (38.148 sec)\n",
      "INFO:tensorflow:training accuracy = 0.79 (38.149 sec)\n",
      "INFO:tensorflow:global_step/sec: 2.26651\n",
      "INFO:tensorflow:loss = 0.92394614, step = 4701 (44.116 sec)\n",
      "INFO:tensorflow:training accuracy = 0.72 (44.116 sec)\n",
      "INFO:tensorflow:global_step/sec: 2.56734\n",
      "INFO:tensorflow:loss = 1.0041488, step = 4801 (38.951 sec)\n",
      "INFO:tensorflow:training accuracy = 0.72 (38.954 sec)\n",
      "INFO:tensorflow:Saving checkpoints for 4814 into tmp/cifar-10/model.ckpt.\n",
      "INFO:tensorflow:global_step/sec: 2.15296\n",
      "INFO:tensorflow:loss = 0.83342916, step = 4901 (46.451 sec)\n",
      "INFO:tensorflow:training accuracy = 0.69 (46.449 sec)\n",
      "INFO:tensorflow:global_step/sec: 2.25925\n",
      "INFO:tensorflow:loss = 1.0195395, step = 5001 (44.260 sec)\n",
      "INFO:tensorflow:training accuracy = 0.69 (44.258 sec)\n",
      "INFO:tensorflow:global_step/sec: 2.3747\n",
      "INFO:tensorflow:loss = 0.76980925, step = 5101 (42.112 sec)\n",
      "INFO:tensorflow:training accuracy = 0.67 (42.112 sec)\n",
      "INFO:tensorflow:global_step/sec: 2.34037\n",
      "INFO:tensorflow:loss = 0.8533236, step = 5201 (42.727 sec)\n",
      "INFO:tensorflow:training accuracy = 0.67 (42.726 sec)\n",
      "INFO:tensorflow:global_step/sec: 2.32803\n",
      "INFO:tensorflow:loss = 0.8095278, step = 5301 (42.992 sec)\n",
      "INFO:tensorflow:training accuracy = 0.74 (43.002 sec)\n",
      "INFO:tensorflow:global_step/sec: 2.28586\n",
      "INFO:tensorflow:loss = 0.80959046, step = 5401 (43.709 sec)\n",
      "INFO:tensorflow:training accuracy = 0.73 (43.700 sec)\n",
      "INFO:tensorflow:global_step/sec: 2.58183\n",
      "INFO:tensorflow:loss = 0.79339224, step = 5501 (38.741 sec)\n",
      "INFO:tensorflow:training accuracy = 0.68 (38.743 sec)\n",
      "INFO:tensorflow:global_step/sec: 2.52532\n",
      "INFO:tensorflow:loss = 0.7632952, step = 5601 (39.590 sec)\n",
      "INFO:tensorflow:training accuracy = 0.73 (39.592 sec)\n",
      "INFO:tensorflow:global_step/sec: 2.53902\n",
      "INFO:tensorflow:loss = 0.7184079, step = 5701 (39.385 sec)\n",
      "INFO:tensorflow:training accuracy = 0.75 (39.379 sec)\n",
      "INFO:tensorflow:global_step/sec: 2.81307\n",
      "INFO:tensorflow:loss = 0.72535414, step = 5801 (35.554 sec)\n",
      "INFO:tensorflow:training accuracy = 0.79 (35.559 sec)\n",
      "INFO:tensorflow:global_step/sec: 2.4723\n",
      "INFO:tensorflow:loss = 1.0806336, step = 5901 (40.460 sec)\n",
      "INFO:tensorflow:training accuracy = 0.66 (40.460 sec)\n",
      "INFO:tensorflow:global_step/sec: 2.07342\n",
      "INFO:tensorflow:loss = 0.8639761, step = 6001 (48.243 sec)\n",
      "INFO:tensorflow:training accuracy = 0.68 (48.243 sec)\n",
      "INFO:tensorflow:global_step/sec: 2.27716\n",
      "INFO:tensorflow:loss = 1.0024624, step = 6101 (43.889 sec)\n",
      "INFO:tensorflow:training accuracy = 0.64 (43.886 sec)\n",
      "INFO:tensorflow:global_step/sec: 2.30126\n",
      "INFO:tensorflow:loss = 0.7035698, step = 6201 (43.475 sec)\n",
      "INFO:tensorflow:training accuracy = 0.75 (43.478 sec)\n",
      "INFO:tensorflow:Saving checkpoints for 6231 into tmp/cifar-10/model.ckpt.\n",
      "INFO:tensorflow:global_step/sec: 2.21392\n",
      "INFO:tensorflow:loss = 1.0201949, step = 6301 (45.142 sec)\n",
      "INFO:tensorflow:training accuracy = 0.69 (45.137 sec)\n",
      "INFO:tensorflow:global_step/sec: 2.7801\n",
      "INFO:tensorflow:loss = 0.77097344, step = 6401 (35.977 sec)\n",
      "INFO:tensorflow:training accuracy = 0.72 (35.981 sec)\n",
      "INFO:tensorflow:global_step/sec: 2.76875\n",
      "INFO:tensorflow:loss = 0.6676413, step = 6501 (36.109 sec)\n",
      "INFO:tensorflow:training accuracy = 0.74 (36.106 sec)\n",
      "INFO:tensorflow:global_step/sec: 2.75698\n",
      "INFO:tensorflow:loss = 0.88841635, step = 6601 (36.283 sec)\n",
      "INFO:tensorflow:training accuracy = 0.67 (36.287 sec)\n",
      "INFO:tensorflow:global_step/sec: 2.49194\n",
      "INFO:tensorflow:loss = 0.69201446, step = 6701 (40.123 sec)\n",
      "INFO:tensorflow:training accuracy = 0.75 (40.120 sec)\n",
      "INFO:tensorflow:global_step/sec: 2.40119\n",
      "INFO:tensorflow:loss = 0.86631024, step = 6801 (41.645 sec)\n",
      "INFO:tensorflow:training accuracy = 0.68 (41.644 sec)\n",
      "INFO:tensorflow:global_step/sec: 2.76923\n",
      "INFO:tensorflow:loss = 0.7532507, step = 6901 (36.106 sec)\n",
      "INFO:tensorflow:training accuracy = 0.76 (36.106 sec)\n",
      "INFO:tensorflow:global_step/sec: 2.72183\n",
      "INFO:tensorflow:loss = 0.72444916, step = 7001 (36.756 sec)\n",
      "INFO:tensorflow:training accuracy = 0.73 (36.760 sec)\n",
      "INFO:tensorflow:global_step/sec: 2.62289\n",
      "INFO:tensorflow:loss = 0.8310428, step = 7101 (38.112 sec)\n",
      "INFO:tensorflow:training accuracy = 0.75 (38.108 sec)\n",
      "INFO:tensorflow:global_step/sec: 2.72449\n",
      "INFO:tensorflow:loss = 0.6443492, step = 7201 (36.706 sec)\n",
      "INFO:tensorflow:training accuracy = 0.76 (36.705 sec)\n",
      "INFO:tensorflow:global_step/sec: 2.76587\n",
      "INFO:tensorflow:loss = 0.7959007, step = 7301 (36.162 sec)\n",
      "INFO:tensorflow:training accuracy = 0.79 (36.163 sec)\n",
      "INFO:tensorflow:global_step/sec: 2.8107\n",
      "INFO:tensorflow:loss = 0.72429055, step = 7401 (35.569 sec)\n",
      "INFO:tensorflow:training accuracy = 0.74 (35.567 sec)\n",
      "INFO:tensorflow:global_step/sec: 2.73753\n",
      "INFO:tensorflow:loss = 0.55682546, step = 7501 (36.536 sec)\n",
      "INFO:tensorflow:training accuracy = 0.79 (36.536 sec)\n",
      "INFO:tensorflow:global_step/sec: 2.65597\n",
      "INFO:tensorflow:loss = 1.0007259, step = 7601 (37.645 sec)\n",
      "INFO:tensorflow:training accuracy = 0.67 (37.645 sec)\n",
      "INFO:tensorflow:global_step/sec: 2.66107\n",
      "INFO:tensorflow:loss = 0.71242905, step = 7701 (37.579 sec)\n",
      "INFO:tensorflow:training accuracy = 0.72 (37.578 sec)\n",
      "INFO:tensorflow:global_step/sec: 2.77725\n",
      "INFO:tensorflow:loss = 0.6791669, step = 7801 (36.006 sec)\n",
      "INFO:tensorflow:training accuracy = 0.8 (36.007 sec)\n",
      "INFO:tensorflow:Saving checkpoints for 7833 into tmp/cifar-10/model.ckpt.\n",
      "INFO:tensorflow:global_step/sec: 2.28552\n",
      "INFO:tensorflow:loss = 0.6886443, step = 7901 (43.753 sec)\n",
      "INFO:tensorflow:training accuracy = 0.78 (43.753 sec)\n",
      "INFO:tensorflow:global_step/sec: 2.69102\n",
      "INFO:tensorflow:loss = 0.6472667, step = 8001 (37.162 sec)\n",
      "INFO:tensorflow:training accuracy = 0.78 (37.163 sec)\n",
      "INFO:tensorflow:global_step/sec: 2.11301\n",
      "INFO:tensorflow:loss = 0.6687264, step = 8101 (47.329 sec)\n",
      "INFO:tensorflow:training accuracy = 0.79 (47.328 sec)\n",
      "INFO:tensorflow:global_step/sec: 2.18778\n",
      "INFO:tensorflow:loss = 0.7544771, step = 8201 (45.716 sec)\n",
      "INFO:tensorflow:training accuracy = 0.72 (45.718 sec)\n",
      "INFO:tensorflow:global_step/sec: 2.51862\n",
      "INFO:tensorflow:loss = 0.83979726, step = 8301 (39.698 sec)\n",
      "INFO:tensorflow:training accuracy = 0.71 (39.700 sec)\n",
      "INFO:tensorflow:global_step/sec: 2.43079\n",
      "INFO:tensorflow:loss = 0.66638565, step = 8401 (41.151 sec)\n",
      "INFO:tensorflow:training accuracy = 0.78 (41.151 sec)\n",
      "INFO:tensorflow:global_step/sec: 2.21034\n",
      "INFO:tensorflow:loss = 0.7700289, step = 8501 (45.240 sec)\n",
      "INFO:tensorflow:training accuracy = 0.73 (45.237 sec)\n",
      "INFO:tensorflow:global_step/sec: 2.44773\n",
      "INFO:tensorflow:loss = 0.7097349, step = 8601 (40.842 sec)\n",
      "INFO:tensorflow:training accuracy = 0.73 (40.840 sec)\n",
      "INFO:tensorflow:global_step/sec: 2.1841\n",
      "INFO:tensorflow:loss = 0.9593794, step = 8701 (45.864 sec)\n",
      "INFO:tensorflow:training accuracy = 0.65 (45.870 sec)\n",
      "INFO:tensorflow:global_step/sec: 2.32808\n",
      "INFO:tensorflow:loss = 0.8644696, step = 8801 (42.878 sec)\n",
      "INFO:tensorflow:training accuracy = 0.68 (42.872 sec)\n",
      "INFO:tensorflow:global_step/sec: 2.38125\n",
      "INFO:tensorflow:loss = 0.78074723, step = 8901 (41.994 sec)\n",
      "INFO:tensorflow:training accuracy = 0.74 (41.994 sec)\n",
      "INFO:tensorflow:global_step/sec: 2.40841\n",
      "INFO:tensorflow:loss = 0.5894482, step = 9001 (41.526 sec)\n",
      "INFO:tensorflow:training accuracy = 0.75 (41.531 sec)\n",
      "INFO:tensorflow:global_step/sec: 1.98536\n",
      "INFO:tensorflow:loss = 0.988959, step = 9101 (50.359 sec)\n",
      "INFO:tensorflow:training accuracy = 0.67 (50.355 sec)\n",
      "INFO:tensorflow:global_step/sec: 2.23443\n",
      "INFO:tensorflow:loss = 0.7099918, step = 9201 (44.755 sec)\n",
      "INFO:tensorflow:training accuracy = 0.75 (44.754 sec)\n",
      "INFO:tensorflow:Saving checkpoints for 9211 into tmp/cifar-10/model.ckpt.\n",
      "INFO:tensorflow:global_step/sec: 2.39041\n",
      "INFO:tensorflow:loss = 0.5231619, step = 9301 (41.835 sec)\n",
      "INFO:tensorflow:training accuracy = 0.83 (41.839 sec)\n",
      "INFO:tensorflow:global_step/sec: 2.73404\n",
      "INFO:tensorflow:loss = 0.49328017, step = 9401 (36.574 sec)\n",
      "INFO:tensorflow:training accuracy = 0.85 (36.570 sec)\n",
      "INFO:tensorflow:global_step/sec: 2.79191\n",
      "INFO:tensorflow:loss = 0.72730905, step = 9501 (35.817 sec)\n",
      "INFO:tensorflow:training accuracy = 0.74 (35.817 sec)\n",
      "INFO:tensorflow:global_step/sec: 2.69857\n",
      "INFO:tensorflow:loss = 0.8739732, step = 9601 (37.057 sec)\n",
      "INFO:tensorflow:training accuracy = 0.74 (37.058 sec)\n",
      "INFO:tensorflow:global_step/sec: 2.49006\n",
      "INFO:tensorflow:loss = 0.76156235, step = 9701 (40.167 sec)\n",
      "INFO:tensorflow:training accuracy = 0.74 (40.167 sec)\n",
      "INFO:tensorflow:global_step/sec: 2.47938\n",
      "INFO:tensorflow:loss = 0.9088812, step = 9801 (40.329 sec)\n",
      "INFO:tensorflow:training accuracy = 0.7 (40.329 sec)\n",
      "INFO:tensorflow:global_step/sec: 2.39517\n",
      "INFO:tensorflow:loss = 0.64411205, step = 9901 (41.747 sec)\n",
      "INFO:tensorflow:training accuracy = 0.77 (41.747 sec)\n",
      "INFO:tensorflow:global_step/sec: 2.56034\n",
      "INFO:tensorflow:loss = 0.6655874, step = 10001 (39.058 sec)\n",
      "INFO:tensorflow:training accuracy = 0.76 (39.058 sec)\n",
      "INFO:tensorflow:global_step/sec: 2.74682\n",
      "INFO:tensorflow:loss = 0.56733984, step = 10101 (36.409 sec)\n",
      "INFO:tensorflow:training accuracy = 0.81 (36.409 sec)\n",
      "INFO:tensorflow:global_step/sec: 2.09051\n",
      "INFO:tensorflow:loss = 0.49734938, step = 10201 (47.833 sec)\n",
      "INFO:tensorflow:training accuracy = 0.84 (47.834 sec)\n",
      "INFO:tensorflow:global_step/sec: 2.05837\n",
      "INFO:tensorflow:loss = 0.9050809, step = 10301 (48.592 sec)\n",
      "INFO:tensorflow:training accuracy = 0.71 (48.595 sec)\n",
      "INFO:tensorflow:global_step/sec: 2.23545\n",
      "INFO:tensorflow:loss = 0.82592916, step = 10401 (44.737 sec)\n",
      "INFO:tensorflow:training accuracy = 0.71 (44.736 sec)\n",
      "INFO:tensorflow:global_step/sec: 2.32905\n",
      "INFO:tensorflow:loss = 0.6287498, step = 10501 (42.925 sec)\n",
      "INFO:tensorflow:training accuracy = 0.8 (42.923 sec)\n",
      "INFO:tensorflow:global_step/sec: 2.17688\n",
      "INFO:tensorflow:loss = 0.5889185, step = 10601 (45.954 sec)\n",
      "INFO:tensorflow:training accuracy = 0.79 (45.958 sec)\n"
     ]
    }
   ],
   "source": [
    "feature_columns = [tf.feature_column.numeric_column(\"x\", shape=[3072], dtype=tf.float32)]\n",
    "tf.reset_default_graph()\n",
    "\n",
    "# Classifier\n",
    "classifier = tf.estimator.Estimator(\n",
    "    model_fn = my_model_fn,\n",
    "    model_dir = LOGDIR,\n",
    "    params={\n",
    "        'feature_columns' : feature_columns,\n",
    "        #choose between 10 classes\n",
    "        'n_classes':10,\n",
    "    }\n",
    ")\n",
    "\n",
    "train_input_fn = tf.estimator.inputs.numpy_input_fn(\n",
    "    x = {\"x\": X_train},\n",
    "    y = y_train,\n",
    "    batch_size = 100,\n",
    "    num_epochs = None,\n",
    "    shuffle = True\n",
    "    )\n",
    "\n",
    "train_results = classifier.train(input_fn=train_input_fn, steps=45000)\n"
   ]
  },
  {
   "cell_type": "code",
   "execution_count": 13,
   "metadata": {
    "collapsed": false,
    "scrolled": true
   },
   "outputs": [
    {
     "name": "stdout",
     "output_type": "stream",
     "text": [
      "INFO:tensorflow:Starting evaluation at 2018-02-27-06:51:06\n",
      "INFO:tensorflow:Restoring parameters from tmp/cifar-10/model.ckpt-2000\n",
      "INFO:tensorflow:Finished evaluation at 2018-02-27-06:51:19\n",
      "INFO:tensorflow:Saving dict for global step 2000: accuracy = 0.692, global_step = 2000, loss = 0.8770134\n",
      "{'accuracy': 0.692, 'loss': 0.8770134, 'global_step': 2000}\n"
     ]
    }
   ],
   "source": [
    "# Evaluate the model and print results\n",
    "eval_input_fn = tf.estimator.inputs.numpy_input_fn(\n",
    "  x={\"x\": X_validation},\n",
    "  y=y_validation,\n",
    "  batch_size = 1,\n",
    "  shuffle=False)\n",
    "eval_results = classifier.evaluate(input_fn=eval_input_fn)\n",
    "print(eval_results)"
   ]
  },
  {
   "cell_type": "markdown",
   "metadata": {},
   "source": [
    "## Predict Test Data"
   ]
  },
  {
   "cell_type": "code",
   "execution_count": 14,
   "metadata": {
    "collapsed": false,
    "scrolled": true
   },
   "outputs": [
    {
     "name": "stdout",
     "output_type": "stream",
     "text": [
      "INFO:tensorflow:Restoring parameters from tmp/cifar-10/model.ckpt-2000\n"
     ]
    }
   ],
   "source": [
    "# Evaluate the model and print results\n",
    "predict_input_fn = tf.estimator.inputs.numpy_input_fn(\n",
    "  x={\"x\": X_test},\n",
    "  num_epochs=1,\n",
    "  batch_size = 1,\n",
    "  shuffle=False)\n",
    "predict_results = classifier.predict(input_fn=predict_input_fn)\n",
    "predictions = list(predict_results)"
   ]
  },
  {
   "cell_type": "code",
   "execution_count": 15,
   "metadata": {
    "collapsed": true
   },
   "outputs": [],
   "source": [
    "y_predicted = []\n",
    "for pred in predictions:\n",
    "    y_predicted.append(pred['classes'])\n",
    "y_predicted = np.array(y_predicted)"
   ]
  },
  {
   "cell_type": "markdown",
   "metadata": {},
   "source": [
    "## Save Predictions, Create Submission File"
   ]
  },
  {
   "cell_type": "code",
   "execution_count": 16,
   "metadata": {
    "collapsed": true
   },
   "outputs": [],
   "source": [
    "save_predictions('ans-sj2675.npy', y_predicted)"
   ]
  },
  {
   "cell_type": "code",
   "execution_count": 17,
   "metadata": {
    "collapsed": false
   },
   "outputs": [
    {
     "name": "stdout",
     "output_type": "stream",
     "text": [
      "(10000,)\n"
     ]
    },
    {
     "data": {
      "text/plain": [
       "array([3, 8, 1, 0, 6, 6, 1, 6, 3, 1])"
      ]
     },
     "execution_count": 17,
     "metadata": {},
     "output_type": "execute_result"
    }
   ],
   "source": [
    "# test if numpy file has been saved correctly\n",
    "loaded_y = np.load('ans-sj2675.npy')\n",
    "print(loaded_y.shape)\n",
    "loaded_y[:10]"
   ]
  },
  {
   "cell_type": "code",
   "execution_count": 18,
   "metadata": {
    "collapsed": true
   },
   "outputs": [],
   "source": [
    "import csv"
   ]
  },
  {
   "cell_type": "code",
   "execution_count": 19,
   "metadata": {
    "collapsed": true
   },
   "outputs": [],
   "source": [
    "def createSubmissionFile(predictions):\n",
    "    with open('test_submit.csv', 'w') as csvfile:\n",
    "        fieldnames = ['ID', 'CLASS']\n",
    "        writer = csv.DictWriter(csvfile, fieldnames=fieldnames)\n",
    "\n",
    "        writer.writeheader()\n",
    "        for ID in range(len(predictions)):\n",
    "            writer.writerow({'ID': ID, 'CLASS': predictions[ID]})"
   ]
  },
  {
   "cell_type": "code",
   "execution_count": 20,
   "metadata": {
    "collapsed": true
   },
   "outputs": [],
   "source": [
    "createSubmissionFile(y_predicted)"
   ]
  },
  {
   "cell_type": "markdown",
   "metadata": {},
   "source": [
    "# To Delete Later"
   ]
  },
  {
   "cell_type": "code",
   "execution_count": 21,
   "metadata": {
    "collapsed": false
   },
   "outputs": [
    {
     "name": "stdout",
     "output_type": "stream",
     "text": [
      "N=10000   error=0.3132   accuracy=0.6868000000000001\n"
     ]
    }
   ],
   "source": [
    "labels = [3, 8, 8, 0, 6, 6, 1, 6, 3, 1, 0, 9, 5, 7, 9, 8, 5, 7, 8, 6, 7, 0, 4, 9, 5, 2, 4, 0, 9, 6, 6, 5, 4, 5, 9, 2, 4, 1, 9, 5, 4, 6, 5, 6, 0, 9, 3, 9, 7, 6, 9, 8, 0, 3, 8, 8, 7, 7, 4, 6, 7, 3, 6, 3, 6, 2, 1, 2, 3, 7, 2, 6, 8, 8, 0, 2, 9, 3, 3, 8, 8, 1, 1, 7, 2, 5, 2, 7, 8, 9, 0, 3, 8, 6, 4, 6, 6, 0, 0, 7, 4, 5, 6, 3, 1, 1, 3, 6, 8, 7, 4, 0, 6, 2, 1, 3, 0, 4, 2, 7, 8, 3, 1, 2, 8, 0, 8, 3, 5, 2, 4, 1, 8, 9, 1, 2, 9, 7, 2, 9, 6, 5, 6, 3, 8, 7, 6, 2, 5, 2, 8, 9, 6, 0, 0, 5, 2, 9, 5, 4, 2, 1, 6, 6, 8, 4, 8, 4, 5, 0, 9, 9, 9, 8, 9, 9, 3, 7, 5, 0, 0, 5, 2, 2, 3, 8, 6, 3, 4, 0, 5, 8, 0, 1, 7, 2, 8, 8, 7, 8, 5, 1, 8, 7, 1, 3, 0, 5, 7, 9, 7, 4, 5, 9, 8, 0, 7, 9, 8, 2, 7, 6, 9, 4, 3, 9, 6, 4, 7, 6, 5, 1, 5, 8, 8, 0, 4, 0, 5, 5, 1, 1, 8, 9, 0, 3, 1, 9, 2, 2, 5, 3, 9, 9, 4, 0, 3, 0, 0, 9, 8, 1, 5, 7, 0, 8, 2, 4, 7, 0, 2, 3, 6, 3, 8, 5, 0, 3, 4, 3, 9, 0, 6, 1, 0, 9, 1, 0, 7, 9, 1, 2, 6, 9, 3, 4, 6, 0, 0, 6, 6, 6, 3, 2, 6, 1, 8, 2, 1, 6, 8, 6, 8, 0, 4, 0, 7, 7, 5, 5, 3, 5, 2, 3, 4, 1, 7, 5, 4, 6, 1, 9, 3, 6, 6, 9, 3, 8, 0, 7, 2, 6, 2, 5, 8, 5, 4, 6, 8, 9, 9, 1, 0, 2, 2, 7, 3, 2, 8, 0, 9, 5, 8, 1, 9, 4, 1, 3, 8, 1, 4, 7, 9, 4, 2, 7, 0, 7, 0, 6, 6, 9, 0, 9, 2, 8, 7, 2, 2, 5, 1, 2, 6, 2, 9, 6, 2, 3, 0, 3, 9, 8, 7, 8, 8, 4, 0, 1, 8, 2, 7, 9, 3, 6, 1, 9, 0, 7, 3, 7, 4, 5, 0, 0, 2, 9, 3, 4, 0, 6, 2, 5, 3, 7, 3, 7, 2, 5, 3, 1, 1, 4, 9, 9, 5, 7, 5, 0, 2, 2, 2, 9, 7, 3, 9, 4, 3, 5, 4, 6, 5, 6, 1, 4, 3, 4, 4, 3, 7, 8, 3, 7, 8, 0, 5, 7, 6, 0, 5, 4, 8, 6, 8, 5, 5, 9, 9, 9, 5, 0, 1, 0, 8, 1, 1, 8, 0, 2, 2, 0, 4, 6, 5, 4, 9, 4, 7, 9, 9, 4, 5, 6, 6, 1, 5, 3, 8, 9, 5, 8, 5, 7, 0, 7, 0, 5, 0, 0, 4, 6, 9, 0, 9, 5, 6, 6, 6, 2, 9, 0, 1, 7, 6, 7, 5, 9, 1, 6, 2, 5, 5, 5, 8, 5, 9, 4, 6, 4, 3, 2, 0, 7, 6, 2, 2, 3, 9, 7, 9, 2, 6, 7, 1, 3, 6, 6, 8, 9, 7, 5, 4, 0, 8, 4, 0, 9, 3, 4, 8, 9, 6, 9, 2, 6, 1, 4, 7, 3, 5, 3, 8, 5, 0, 2, 1, 6, 4, 3, 3, 9, 6, 9, 8, 8, 5, 8, 6, 6, 2, 1, 7, 7, 1, 2, 7, 9, 9, 4, 4, 1, 2, 5, 6, 8, 7, 6, 8, 3, 0, 5, 5, 3, 0, 7, 9, 1, 3, 4, 4, 5, 3, 9, 5, 6, 9, 2, 1, 1, 4, 1, 9, 4, 7, 6, 3, 8, 9, 0, 1, 3, 6, 3, 6, 3, 2, 0, 3, 1, 0, 5, 9, 6, 4, 8, 9, 6, 9, 6, 3, 0, 3, 2, 2, 7, 8, 3, 8, 2, 7, 5, 7, 2, 4, 8, 7, 4, 2, 9, 8, 8, 6, 8, 8, 7, 4, 3, 3, 8, 4, 9, 4, 8, 8, 1, 8, 2, 1, 3, 6, 5, 4, 2, 7, 9, 9, 4, 1, 4, 1, 3, 2, 7, 0, 7, 9, 7, 6, 6, 2, 5, 9, 2, 9, 1, 2, 2, 6, 8, 2, 1, 3, 6, 6, 0, 1, 2, 7, 0, 5, 4, 6, 1, 6, 4, 0, 2, 2, 6, 0, 5, 9, 1, 7, 6, 7, 0, 3, 9, 6, 8, 3, 0, 3, 4, 7, 7, 1, 4, 7, 2, 7, 1, 4, 7, 4, 4, 8, 4, 7, 7, 5, 3, 7, 2, 0, 8, 9, 5, 8, 3, 6, 2, 0, 8, 7, 3, 7, 6, 5, 3, 1, 3, 2, 2, 5, 4, 1, 2, 9, 2, 7, 0, 7, 2, 1, 3, 2, 0, 2, 4, 7, 9, 8, 9, 0, 7, 7, 0, 7, 8, 4, 6, 3, 3, 0, 1, 3, 7, 0, 1, 3, 1, 4, 2, 3, 8, 4, 2, 3, 7, 8, 4, 3, 0, 9, 0, 0, 1, 0, 4, 4, 6, 7, 6, 1, 1, 3, 7, 3, 5, 2, 6, 6, 5, 8, 7, 1, 6, 8, 8, 5, 3, 0, 4, 0, 1, 3, 8, 8, 0, 6, 9, 9, 9, 5, 5, 8, 6, 0, 0, 4, 2, 3, 2, 7, 2, 2, 5, 9, 8, 9, 1, 7, 4, 0, 3, 0, 1, 3, 8, 3, 9, 6, 1, 4, 7, 0, 3, 7, 8, 9, 1, 1, 6, 6, 6, 6, 9, 1, 9, 9, 4, 2, 1, 7, 0, 6, 8, 1, 9, 2, 9, 0, 4, 7, 8, 3, 1, 2, 0, 1, 5, 8, 4, 6, 3, 8, 1, 3, 8, 5, 0, 8, 4, 8, 1, 1, 8, 9, 6, 0, 8, 6, 1, 3, 4, 1, 6, 0, 5, 1, 1, 0, 0, 3, 5, 0, 0, 6, 6, 3, 3, 6, 3, 6, 6, 0, 7, 2, 2, 7, 5, 5, 2, 8, 5, 2, 1, 1, 4, 3, 2, 0, 3, 1, 5, 3, 7, 6, 8, 9, 1, 6, 4, 9, 3, 9, 0, 9, 6, 3, 6, 0, 7, 3, 8, 0, 0, 0, 6, 6, 6, 9, 2, 5, 4, 4, 6, 3, 6, 0, 8, 6, 0, 6, 2, 7, 5, 1, 2, 7, 8, 8, 0, 9, 4, 9, 7, 2, 0, 2, 8, 3, 8, 9, 1, 5, 5, 4, 7, 5, 3, 8, 3, 3, 6, 2, 8, 4, 3, 7, 1, 2, 4, 1, 6, 9, 0, 5, 8, 6, 1, 8, 6, 1, 4, 2, 6, 2, 7, 2, 2, 0, 8, 6, 9, 1, 7, 1, 8, 8, 0, 7, 3, 8, 0, 3, 4, 3, 7, 7, 9, 2, 3, 1, 9, 1, 9, 6, 3, 3, 3, 1, 0, 6, 1, 4, 1, 0, 0, 1, 1, 6, 5, 4, 6, 2, 0, 7, 9, 8, 7, 2, 0, 6, 8, 1, 4, 3, 7, 0, 6, 1, 8, 5, 7, 8, 4, 8, 3, 9, 9, 9, 8, 7, 6, 6, 3, 5, 1, 5, 9, 1, 4, 1, 5, 7, 0, 1, 5, 2, 0, 8, 8, 5, 6, 7, 3, 2, 4, 7, 2, 5, 8, 2, 4, 9, 2, 1, 8, 1, 9, 8, 8, 8, 9, 0, 4, 3, 3, 1, 8, 4, 6, 3, 3, 5, 2, 2, 8, 3, 8, 9, 5, 8, 9, 8, 9, 1, 6, 5, 9, 4, 4, 8, 0, 7, 2, 9, 7, 4, 1, 6, 4, 4, 9, 1, 2, 5, 6, 0, 8, 6, 1, 9, 4, 5, 9, 5, 0, 7, 2, 0, 0, 4, 2, 6, 6, 5, 5, 2, 8, 1, 7, 3, 1, 4, 5, 6, 5, 1, 4, 7, 0, 9, 4, 3, 8, 2, 8, 4, 7, 2, 3, 1, 5, 2, 9, 8, 9, 7, 9, 5, 1, 4, 0, 8, 2, 3, 8, 9, 1, 1, 3, 2, 4, 9, 3, 1, 7, 4, 6, 2, 8, 9, 5, 3, 9, 5, 5, 6, 7, 2, 4, 6, 3, 1, 0, 7, 2, 5, 4, 7, 6, 1, 1, 9, 8, 1, 0, 1, 3, 1, 1, 1, 7, 3, 9, 6, 8, 4, 6, 8, 4, 9, 4, 7, 9, 7, 6, 8, 4, 9, 7, 0, 1, 6, 1, 5, 9, 0, 4, 3, 4, 1, 3, 0, 8, 4, 6, 2, 2, 6, 5, 3, 6, 2, 1, 1, 8, 6, 0, 4, 0, 1, 9, 7, 1, 3, 7, 7, 8, 7, 7, 3, 9, 7, 7, 7, 2, 1, 2, 8, 6, 4, 0, 7, 9, 8, 6, 8, 4, 9, 1, 7, 2, 2, 8, 5, 8, 1, 2, 2, 4, 1, 2, 5, 2, 8, 1, 8, 1, 8, 6, 0, 2, 4, 1, 3, 6, 7, 7, 4, 4, 3, 3, 4, 5, 2, 4, 3, 7, 8, 4, 4, 4, 5, 4, 3, 2, 8, 4, 5, 5, 4, 1, 4, 2, 5, 1, 6, 4, 3, 4, 4, 0, 8, 8, 4, 5, 7, 5, 6, 9, 1, 6, 7, 2, 0, 1, 4, 5, 6, 0, 0, 2, 7, 5, 6, 0, 6, 2, 9, 1, 7, 7, 5, 2, 5, 6, 4, 1, 4, 3, 3, 3, 0, 3, 5, 5, 8, 9, 7, 3, 1, 3, 3, 3, 4, 4, 2, 3, 3, 8, 1, 7, 7, 0, 7, 4, 5, 1, 4, 2, 4, 3, 9, 9, 4, 9, 9, 1, 8, 1, 6, 7, 5, 5, 4, 9, 7, 6, 5, 9, 2, 4, 0, 7, 8, 5, 5, 0, 0, 9, 9, 8, 2, 5, 4, 8, 3, 6, 3, 6, 0, 6, 6, 6, 9, 6, 6, 8, 6, 2, 4, 5, 8, 1, 2, 7, 6, 5, 7, 8, 1, 8, 0, 8, 6, 9, 2, 8, 9, 4, 0, 9, 4, 9, 5, 7, 5, 5, 9, 5, 3, 0, 1, 9, 7, 2, 4, 1, 0, 8, 0, 3, 1, 7, 0, 0, 4, 8, 6, 2, 4, 0, 0, 9, 0, 8, 4, 5, 9, 3, 9, 0, 5, 6, 5, 0, 1, 4, 8, 1, 0, 5, 2, 1, 0, 2, 8, 1, 5, 6, 7, 7, 2, 6, 2, 5, 0, 1, 4, 2, 5, 4, 6, 2, 2, 1, 7, 2, 8, 5, 5, 3, 0, 4, 8, 3, 7, 6, 3, 8, 1, 0, 1, 3, 3, 0, 7, 4, 9, 5, 3, 6, 0, 1, 4, 4, 4, 4, 2, 2, 5, 8, 1, 5, 9, 8, 1, 1, 5, 3, 9, 9, 7, 6, 5, 0, 8, 4, 7, 0, 9, 2, 8, 4, 7, 1, 3, 9, 6, 8, 9, 0, 4, 9, 6, 7, 8, 9, 4, 8, 9, 7, 2, 5, 3, 7, 1, 0, 2, 9, 5, 5, 8, 5, 4, 2, 8, 3, 5, 5, 7, 7, 8, 6, 2, 8, 2, 3, 5, 6, 8, 0, 2, 3, 7, 0, 1, 9, 1, 3, 7, 5, 8, 3, 2, 9, 6, 8, 6, 9, 3, 8, 9, 8, 0, 7, 8, 5, 0, 0, 1, 3, 9, 1, 5, 3, 4, 4, 0, 9, 9, 9, 9, 8, 2, 4, 2, 2, 5, 1, 9, 1, 0, 9, 4, 2, 1, 6, 0, 3, 7, 6, 3, 1, 8, 6, 5, 7, 2, 8, 4, 4, 8, 3, 5, 0, 5, 7, 4, 4, 2, 2, 7, 3, 6, 0, 2, 7, 6, 2, 3, 0, 7, 7, 8, 1, 1, 4, 6, 0, 6, 6, 5, 5, 6, 3, 9, 3, 6, 8, 7, 6, 4, 9, 5, 6, 4, 1, 6, 3, 8, 2, 3, 9, 8, 5, 1, 5, 4, 5, 7, 5, 7, 8, 9, 1, 7, 2, 5, 6, 8, 4, 6, 5, 3, 9, 9, 8, 5, 5, 6, 4, 5, 9, 7, 3, 4, 1, 4, 2, 3, 6, 5, 5, 2, 8, 0, 0, 1, 8, 3, 1, 3, 5, 8, 3, 8, 5, 8, 6, 3, 5, 5, 5, 0, 9, 5, 5, 7, 1, 8, 2, 2, 7, 3, 4, 2, 9, 6, 2, 2, 4, 3, 0, 2, 0, 1, 3, 2, 2, 7, 0, 1, 0, 7, 7, 2, 0, 1, 6, 5, 0, 2, 2, 0, 1, 2, 6, 0, 1, 6, 6, 5, 3, 4, 0, 0, 9, 1, 0, 2, 5, 9, 7, 8, 6, 4, 6, 0, 2, 0, 1, 9, 2, 4, 9, 0, 7, 2, 3, 4, 8, 0, 2, 6, 8, 9, 7, 1, 9, 3, 7, 2, 7, 9, 6, 9, 5, 7, 8, 5, 9, 8, 3, 9, 8, 0, 5, 5, 7, 1, 2, 0, 7, 5, 8, 2, 2, 5, 3, 9, 3, 1, 9, 3, 1, 4, 3, 4, 4, 9, 0, 9, 5, 9, 2, 9, 4, 0, 2, 8, 4, 8, 6, 8, 2, 0, 5, 9, 6, 9, 5, 1, 3, 4, 4, 2, 7, 2, 4, 4, 0, 2, 8, 4, 5, 1, 2, 6, 8, 1, 7, 2, 8, 7, 4, 3, 3, 0, 3, 7, 2, 5, 6, 1, 7, 9, 0, 2, 3, 9, 8, 9, 5, 0, 0, 7, 6, 3, 3, 8, 1, 4, 0, 1, 5, 4, 3, 2, 6, 0, 8, 8, 6, 3, 3, 2, 9, 7, 5, 1, 6, 0, 5, 9, 9, 4, 5, 9, 4, 8, 3, 3, 2, 5, 1, 9, 5, 5, 8, 1, 8, 9, 7, 0, 6, 3, 2, 0, 2, 6, 9, 3, 9, 1, 6, 6, 7, 2, 6, 3, 2, 5, 5, 2, 7, 5, 2, 0, 8, 0, 7, 7, 1, 7, 4, 0, 2, 2, 6, 1, 5, 9, 7, 6, 2, 7, 0, 5, 6, 0, 1, 1, 8, 4, 5, 3, 1, 2, 4, 8, 9, 8, 1, 7, 2, 7, 2, 3, 2, 6, 7, 9, 4, 0, 1, 0, 4, 5, 0, 8, 0, 7, 6, 1, 0, 8, 5, 9, 2, 5, 4, 4, 9, 0, 6, 1, 2, 5, 1, 6, 7, 1, 5, 8, 8, 0, 3, 9, 4, 0, 3, 4, 9, 2, 4, 3, 0, 6, 4, 5, 6, 6, 7, 8, 4, 8, 8, 3, 2, 8, 0, 2, 5, 6, 8, 7, 8, 9, 9, 0, 6, 6, 8, 1, 1, 7, 4, 4, 2, 3, 6, 9, 6, 2, 4, 1, 8, 2, 3, 1, 6, 8, 6, 8, 5, 9, 0, 1, 0, 2, 9, 2, 9, 0, 9, 7, 8, 5, 0, 6, 6, 8, 1, 6, 5, 8, 7, 9, 2, 1, 6, 7, 5, 6, 3, 0, 9, 8, 9, 5, 9, 9, 9, 3, 6, 4, 4, 8, 8, 1, 7, 3, 0, 6, 2, 4, 8, 2, 2, 9, 2, 2, 9, 7, 4, 1, 9, 1, 4, 3, 5, 3, 8, 9, 3, 6, 2, 0, 8, 9, 0, 5, 1, 5, 8, 2, 1, 2, 3, 2, 4, 8, 4, 0, 6, 4, 2, 9, 8, 4, 7, 6, 2, 4, 7, 7, 6, 4, 2, 2, 3, 2, 4, 9, 0, 0, 9, 6, 5, 8, 5, 2, 4, 8, 8, 6, 4, 5, 7, 6, 3, 7, 0, 4, 0, 5, 8, 2, 8, 0, 4, 9, 2, 3, 6, 8, 1, 6, 0, 8, 4, 3, 1, 4, 5, 2, 4, 3, 6, 0, 7, 1, 3, 5, 7, 1, 8, 0, 4, 8, 2, 7, 7, 0, 2, 2, 4, 3, 3, 1, 6, 1, 6, 4, 6, 7, 4, 7, 3, 8, 1, 3, 1, 4, 6, 5, 5, 7, 4, 5, 4, 9, 7, 7, 2, 3, 3, 6, 7, 4, 1, 6, 1, 0, 6, 9, 6, 0, 2, 0, 2, 4, 7, 0, 0, 0, 0, 7, 5, 3, 2, 7, 8, 5, 5, 2, 2, 8, 9, 1, 2, 2, 0, 3, 4, 9, 1, 6, 9, 0, 8, 3, 6, 4, 6, 7, 5, 1, 8, 9, 0, 5, 0, 5, 4, 3, 8, 5, 2, 0, 8, 5, 9, 2, 5, 6, 5, 7, 3, 7, 2, 8, 8, 4, 2, 1, 6, 2, 9, 9, 8, 2, 3, 1, 0, 5, 2, 3, 7, 9, 5, 9, 1, 1, 3, 2, 7, 4, 4, 1, 9, 4, 5, 5, 2, 7, 7, 6, 1, 2, 3, 7, 5, 4, 3, 7, 7, 0, 0, 1, 4, 4, 3, 7, 9, 8, 7, 0, 9, 0, 3, 7, 6, 3, 8, 4, 5, 6, 5, 3, 4, 2, 9, 2, 4, 9, 2, 0, 1, 1, 3, 7, 9, 5, 1, 6, 0, 3, 3, 7, 2, 4, 5, 2, 3, 6, 3, 3, 0, 4, 4, 3, 8, 1, 2, 3, 2, 7, 1, 4, 5, 6, 8, 6, 6, 5, 4, 2, 9, 9, 3, 2, 0, 4, 1, 5, 5, 6, 6, 5, 6, 9, 7, 9, 4, 8, 3, 1, 9, 8, 1, 9, 0, 3, 0, 4, 7, 7, 2, 6, 5, 6, 9, 7, 7, 5, 7, 0, 8, 6, 7, 8, 3, 8, 9, 3, 2, 9, 2, 7, 4, 1, 9, 7, 0, 8, 1, 2, 0, 6, 5, 1, 4, 2, 8, 2, 8, 3, 3, 1, 4, 9, 8, 1, 1, 7, 9, 9, 4, 6, 8, 5, 3, 2, 2, 3, 8, 5, 1, 9, 7, 9, 1, 5, 3, 1, 0, 3, 8, 9, 2, 0, 8, 0, 7, 9, 4, 8, 3, 0, 7, 0, 7, 0, 5, 5, 4, 3, 0, 9, 9, 0, 2, 2, 0, 8, 4, 4, 5, 2, 2, 1, 1, 5, 5, 4, 3, 4, 0, 8, 4, 8, 2, 5, 6, 5, 1, 7, 2, 4, 0, 5, 6, 8, 7, 6, 3, 1, 3, 6, 6, 4, 5, 5, 5, 1, 8, 7, 3, 0, 2, 5, 1, 1, 1, 6, 7, 2, 1, 2, 3, 9, 8, 3, 1, 7, 4, 8, 4, 7, 5, 8, 6, 0, 3, 0, 8, 3, 4, 4, 9, 4, 6, 1, 5, 7, 7, 9, 0, 1, 3, 1, 3, 2, 4, 0, 7, 8, 3, 1, 6, 2, 1, 8, 8, 1, 9, 7, 5, 3, 2, 9, 0, 6, 8, 4, 1, 5, 7, 2, 4, 7, 0, 4, 9, 0, 7, 0, 6, 7, 1, 8, 5, 8, 8, 7, 0, 0, 3, 2, 5, 7, 0, 6, 4, 4, 9, 1, 8, 6, 3, 9, 4, 9, 3, 3, 7, 5, 9, 7, 7, 4, 5, 8, 2, 8, 9, 5, 3, 1, 9, 2, 2, 0, 1, 1, 8, 1, 1, 9, 8, 9, 9, 0, 2, 6, 9, 1, 9, 0, 1, 9, 2, 9, 9, 9, 0, 9, 9, 2, 1, 7, 0, 5, 6, 3, 9, 8, 3, 0, 2, 7, 7, 4, 8, 3, 0, 5, 2, 3, 5, 7, 6, 6, 6, 5, 6, 5, 4, 5, 8, 8, 0, 9, 7, 9, 0, 6, 9, 6, 1, 4, 7, 9, 0, 3, 5, 4, 7, 6, 9, 8, 2, 3, 9, 3, 3, 7, 8, 3, 5, 5, 9, 6, 1, 4, 7, 4, 8, 7, 7, 1, 3, 0, 3, 2, 5, 4, 9, 3, 5, 4, 7, 0, 3, 7, 0, 2, 1, 5, 8, 7, 3, 5, 7, 8, 5, 7, 8, 1, 5, 4, 7, 0, 8, 3, 2, 9, 7, 4, 1, 6, 5, 9, 8, 5, 5, 4, 1, 0, 9, 4, 4, 3, 0, 4, 8, 0, 8, 2, 9, 5, 9, 7, 4, 6, 7, 9, 2, 9, 3, 7, 7, 8, 2, 2, 0, 2, 5, 3, 6, 4, 7, 2, 3, 7, 8, 7, 2, 5, 0, 0, 7, 0, 9, 6, 1, 0, 3, 9, 7, 4, 9, 1, 6, 8, 1, 2, 3, 3, 5, 4, 8, 9, 7, 4, 4, 1, 2, 4, 9, 8, 7, 9, 5, 1, 2, 1, 6, 6, 4, 5, 7, 4, 5, 8, 5, 2, 8, 7, 8, 2, 3, 6, 1, 3, 3, 1, 5, 1, 9, 0, 9, 2, 0, 6, 2, 4, 8, 5, 7, 6, 1, 2, 9, 4, 5, 0, 3, 3, 7, 7, 7, 1, 4, 5, 0, 2, 8, 5, 0, 0, 6, 2, 0, 8, 4, 5, 4, 5, 6, 4, 7, 9, 4, 2, 0, 6, 4, 0, 0, 6, 4, 6, 1, 9, 5, 5, 2, 2, 6, 3, 4, 5, 9, 1, 7, 2, 3, 9, 6, 5, 0, 2, 9, 7, 1, 7, 2, 2, 0, 8, 6, 4, 3, 2, 7, 7, 0, 4, 1, 6, 5, 1, 3, 0, 3, 9, 0, 0, 2, 5, 0, 4, 0, 1, 9, 8, 4, 9, 4, 2, 4, 3, 3, 4, 0, 4, 3, 2, 8, 9, 1, 5, 8, 1, 8, 2, 4, 5, 2, 4, 1, 1, 6, 6, 8, 5, 2, 2, 5, 0, 8, 2, 3, 6, 2, 9, 6, 1, 4, 5, 9, 0, 1, 0, 0, 8, 1, 1, 6, 6, 9, 5, 4, 1, 7, 8, 6, 9, 1, 7, 6, 0, 9, 3, 5, 3, 2, 5, 3, 4, 9, 7, 1, 4, 4, 6, 1, 3, 8, 8, 0, 6, 7, 7, 6, 7, 2, 3, 2, 2, 6, 2, 7, 4, 0, 3, 6, 2, 6, 3, 3, 0, 9, 5, 1, 1, 5, 3, 6, 4, 3, 4, 1, 0, 4, 5, 5, 2, 8, 9, 4, 3, 1, 8, 0, 1, 3, 3, 4, 4, 2, 9, 7, 6, 8, 1, 8, 9, 1, 3, 1, 7, 3, 0, 0, 2, 8, 3, 9, 2, 7, 2, 6, 0, 1, 6, 1, 6, 7, 5, 5, 2, 5, 9, 4, 0, 2, 3, 4, 9, 4, 1, 0, 0, 2, 3, 8, 9, 2, 8, 9, 5, 7, 9, 1, 4, 6, 2, 8, 4, 4, 8, 9, 3, 1, 1, 6, 5, 8, 4, 6, 4, 5, 2, 6, 4, 2, 3, 1, 3, 6, 8, 5, 2, 2, 7, 1, 6, 2, 5, 9, 2, 8, 1, 6, 9, 2, 7, 5, 3, 2, 9, 7, 0, 2, 9, 3, 4, 1, 7, 9, 5, 8, 9, 7, 3, 4, 0, 9, 7, 4, 2, 4, 7, 0, 1, 8, 1, 0, 4, 6, 1, 9, 9, 2, 1, 2, 5, 6, 9, 7, 7, 3, 4, 2, 0, 2, 5, 6, 7, 3, 7, 9, 4, 2, 0, 6, 1, 7, 5, 6, 5, 3, 9, 2, 7, 8, 5, 9, 5, 8, 5, 4, 3, 7, 9, 8, 1, 2, 2, 8, 9, 3, 0, 8, 4, 0, 2, 0, 1, 4, 1, 8, 5, 5, 7, 9, 8, 3, 7, 9, 1, 5, 6, 9, 8, 7, 2, 0, 9, 0, 8, 5, 9, 4, 2, 9, 8, 1, 9, 1, 8, 3, 7, 6, 4, 2, 3, 7, 0, 3, 5, 8, 8, 8, 7, 9, 6, 2, 7, 4, 5, 7, 6, 7, 1, 7, 3, 6, 8, 2, 6, 6, 7, 1, 5, 9, 7, 1, 7, 0, 1, 6, 3, 3, 9, 0, 1, 2, 3, 2, 2, 5, 4, 9, 8, 7, 4, 4, 9, 7, 6, 7, 7, 1, 2, 3, 5, 1, 9, 0, 3, 3, 1, 5, 6, 6, 2, 4, 6, 8, 8, 9, 6, 6, 1, 0, 7, 5, 8, 2, 1, 5, 8, 1, 4, 7, 5, 0, 3, 9, 9, 5, 2, 8, 4, 1, 9, 0, 4, 4, 8, 2, 9, 0, 7, 9, 8, 7, 1, 3, 2, 9, 9, 5, 9, 7, 6, 7, 7, 1, 1, 2, 4, 2, 0, 6, 8, 7, 6, 2, 2, 9, 8, 2, 4, 2, 0, 5, 8, 6, 8, 2, 7, 7, 3, 1, 8, 1, 6, 5, 9, 7, 8, 9, 6, 4, 8, 1, 9, 4, 0, 4, 1, 4, 3, 6, 2, 2, 7, 0, 0, 7, 0, 7, 4, 3, 6, 7, 7, 4, 5, 4, 3, 5, 5, 4, 7, 1, 0, 7, 7, 1, 6, 5, 0, 7, 7, 4, 6, 1, 8, 5, 9, 3, 5, 6, 2, 2, 7, 3, 5, 8, 1, 0, 6, 8, 7, 8, 8, 5, 7, 5, 4, 9, 7, 3, 3, 8, 8, 3, 9, 4, 7, 2, 0, 8, 0, 7, 3, 3, 2, 5, 2, 4, 4, 0, 4, 8, 2, 4, 0, 6, 4, 5, 6, 0, 8, 8, 0, 6, 1, 1, 6, 1, 4, 2, 1, 1, 2, 4, 4, 5, 5, 8, 8, 5, 1, 8, 2, 3, 3, 9, 6, 6, 5, 0, 7, 3, 3, 2, 7, 4, 5, 6, 0, 2, 1, 8, 1, 0, 9, 3, 1, 0, 5, 4, 2, 3, 3, 6, 7, 6, 0, 0, 5, 7, 4, 7, 7, 0, 6, 1, 3, 9, 0, 9, 0, 3, 8, 4, 8, 8, 4, 1, 0, 2, 2, 4, 1, 1, 2, 4, 3, 4, 1, 4, 7, 1, 0, 0, 9, 0, 4, 2, 8, 8, 5, 5, 0, 4, 0, 8, 6, 2, 5, 9, 2, 9, 1, 1, 5, 4, 7, 5, 8, 6, 2, 1, 5, 5, 3, 4, 1, 8, 9, 9, 8, 9, 8, 6, 8, 5, 8, 9, 4, 6, 2, 6, 3, 7, 4, 0, 0, 1, 7, 5, 1, 5, 9, 3, 1, 6, 8, 7, 3, 6, 9, 1, 2, 0, 1, 7, 2, 6, 1, 9, 0, 0, 8, 9, 9, 2, 8, 6, 2, 5, 6, 0, 3, 3, 0, 7, 4, 7, 5, 0, 1, 6, 8, 8, 1, 2, 1, 5, 4, 5, 9, 6, 7, 1, 0, 6, 9, 2, 7, 7, 3, 9, 9, 1, 9, 7, 0, 1, 3, 5, 4, 6, 3, 8, 8, 0, 4, 8, 3, 6, 7, 0, 0, 4, 5, 2, 6, 8, 4, 9, 9, 9, 2, 0, 4, 2, 8, 1, 1, 0, 0, 3, 7, 4, 1, 1, 9, 7, 7, 4, 6, 8, 6, 0, 2, 8, 5, 3, 5, 3, 5, 7, 9, 8, 4, 4, 3, 1, 4, 8, 3, 6, 5, 3, 0, 8, 9, 5, 7, 6, 2, 0, 4, 9, 9, 0, 5, 2, 3, 6, 1, 1, 0, 2, 8, 2, 1, 1, 7, 5, 2, 3, 4, 1, 2, 9, 2, 1, 3, 4, 8, 9, 0, 0, 4, 9, 0, 2, 2, 0, 6, 8, 7, 3, 3, 8, 9, 0, 2, 5, 3, 6, 1, 3, 9, 5, 0, 5, 4, 4, 0, 1, 1, 6, 1, 7, 9, 9, 6, 2, 4, 3, 8, 3, 4, 7, 0, 2, 8, 4, 8, 3, 8, 8, 8, 3, 3, 5, 7, 7, 0, 4, 1, 5, 9, 7, 0, 6, 8, 4, 9, 0, 1, 8, 9, 6, 3, 9, 2, 4, 4, 0, 3, 3, 5, 4, 5, 1, 1, 8, 2, 2, 9, 3, 7, 8, 9, 2, 3, 1, 7, 3, 2, 3, 0, 1, 9, 5, 5, 3, 4, 5, 2, 0, 0, 3, 1, 3, 4, 7, 4, 2, 8, 4, 8, 9, 9, 4, 2, 4, 3, 6, 4, 6, 4, 6, 6, 3, 8, 7, 4, 8, 0, 5, 9, 3, 9, 0, 7, 5, 1, 9, 7, 9, 1, 8, 4, 2, 1, 6, 4, 3, 0, 1, 4, 8, 6, 1, 7, 1, 3, 5, 4, 3, 3, 9, 7, 8, 2, 5, 5, 4, 5, 4, 5, 7, 2, 5, 5, 1, 7, 7, 8, 3, 6, 0, 2, 5, 2, 3, 7, 4, 2, 1, 6, 8, 6, 8, 3, 2, 7, 7, 9, 7, 1, 4, 7, 4, 6, 1, 7, 3, 0, 0, 6, 6, 8, 6, 6, 0, 3, 4, 7, 4, 9, 4, 9, 9, 3, 4, 1, 4, 0, 3, 7, 1, 2, 2, 8, 4, 7, 8, 5, 5, 6, 5, 6, 0, 6, 4, 9, 3, 2, 7, 3, 8, 3, 9, 4, 1, 6, 9, 9, 4, 3, 9, 8, 1, 6, 9, 5, 9, 0, 9, 7, 2, 2, 4, 2, 6, 4, 8, 1, 9, 5, 6, 5, 1, 8, 6, 6, 7, 6, 5, 0, 2, 7, 6, 1, 2, 3, 1, 6, 4, 9, 0, 3, 9, 1, 0, 5, 3, 1, 6, 9, 8, 9, 0, 6, 1, 6, 2, 3, 5, 6, 9, 0, 7, 2, 4, 0, 3, 6, 8, 6, 9, 1, 9, 0, 6, 4, 5, 9, 5, 4, 1, 9, 2, 0, 7, 3, 5, 1, 8, 3, 0, 5, 2, 8, 8, 3, 9, 6, 0, 3, 5, 3, 4, 1, 5, 0, 7, 3, 9, 4, 5, 3, 1, 4, 2, 4, 9, 9, 7, 1, 7, 0, 1, 2, 1, 5, 3, 8, 4, 1, 5, 1, 9, 9, 7, 0, 1, 7, 6, 2, 6, 5, 0, 3, 1, 3, 8, 9, 9, 0, 8, 8, 7, 9, 2, 9, 1, 3, 6, 7, 6, 0, 8, 6, 2, 4, 2, 3, 5, 5, 4, 1, 6, 7, 1, 6, 1, 7, 1, 6, 2, 3, 0, 4, 2, 9, 7, 5, 5, 6, 0, 8, 8, 1, 1, 3, 5, 6, 5, 3, 8, 7, 5, 0, 7, 7, 5, 7, 1, 9, 9, 1, 9, 9, 3, 5, 5, 3, 0, 3, 0, 6, 6, 5, 6, 8, 9, 4, 5, 1, 1, 2, 7, 9, 0, 1, 2, 5, 4, 4, 7, 4, 8, 3, 3, 5, 3, 5, 7, 0, 1, 2, 9, 8, 1, 7, 3, 5, 9, 1, 9, 1, 1, 3, 6, 7, 4, 8, 3, 5, 6, 7, 0, 1, 7, 7, 2, 3, 3, 5, 1, 7, 6, 8, 4, 4, 5, 7, 3, 4, 7, 7, 3, 6, 0, 7, 2, 6, 7, 4, 1, 8, 0, 2, 2, 1, 5, 4, 0, 9, 3, 4, 4, 2, 3, 8, 5, 0, 0, 4, 6, 3, 9, 2, 0, 5, 7, 5, 5, 1, 7, 3, 1, 6, 7, 9, 0, 1, 2, 1, 4, 6, 1, 5, 9, 5, 0, 4, 9, 4, 9, 7, 1, 6, 8, 0, 6, 5, 0, 8, 1, 7, 5, 6, 9, 3, 2, 3, 9, 8, 6, 1, 0, 9, 0, 9, 8, 7, 7, 5, 2, 3, 5, 5, 7, 8, 7, 6, 9, 1, 9, 8, 6, 5, 6, 7, 5, 6, 7, 2, 5, 9, 6, 6, 7, 0, 1, 0, 1, 3, 2, 5, 6, 1, 2, 5, 1, 9, 9, 8, 6, 8, 6, 8, 9, 0, 4, 0, 3, 3, 6, 4, 9, 9, 7, 2, 3, 5, 6, 4, 6, 0, 3, 7, 5, 0, 2, 9, 2, 7, 2, 9, 2, 4, 0, 6, 6, 3, 4, 5, 5, 9, 1, 1, 4, 4, 3, 5, 4, 8, 0, 0, 3, 9, 4, 7, 4, 2, 8, 3, 6, 3, 1, 9, 6, 3, 8, 3, 8, 4, 7, 5, 7, 5, 3, 1, 2, 6, 1, 3, 2, 0, 7, 5, 0, 0, 0, 1, 4, 3, 5, 8, 4, 3, 1, 7, 1, 0, 4, 2, 4, 1, 4, 0, 1, 2, 1, 7, 7, 9, 8, 7, 5, 4, 0, 9, 0, 0, 8, 2, 0, 0, 2, 4, 8, 6, 2, 4, 6, 3, 5, 1, 5, 3, 7, 2, 2, 9, 8, 0, 0, 0, 3, 4, 4, 6, 1, 6, 7, 4, 4, 3, 9, 4, 0, 8, 0, 4, 6, 5, 7, 9, 7, 0, 5, 7, 7, 3, 1, 9, 3, 0, 9, 5, 3, 7, 9, 4, 4, 1, 7, 7, 1, 4, 1, 2, 8, 7, 0, 0, 4, 7, 2, 9, 7, 6, 9, 3, 5, 8, 0, 3, 6, 8, 3, 2, 4, 7, 1, 1, 3, 9, 7, 5, 1, 0, 8, 7, 0, 1, 6, 9, 3, 2, 7, 7, 8, 1, 0, 3, 4, 6, 7, 5, 2, 0, 1, 5, 5, 1, 4, 1, 3, 0, 8, 6, 2, 1, 3, 6, 4, 1, 9, 0, 4, 1, 0, 1, 9, 8, 6, 9, 2, 4, 7, 2, 2, 7, 4, 9, 1, 3, 2, 6, 3, 4, 4, 9, 4, 8, 2, 6, 6, 1, 6, 3, 6, 5, 8, 4, 6, 7, 1, 9, 3, 6, 7, 6, 0, 7, 1, 9, 5, 2, 6, 7, 7, 6, 5, 9, 1, 5, 6, 0, 2, 0, 9, 1, 8, 3, 5, 0, 0, 0, 5, 7, 7, 8, 5, 5, 5, 1, 6, 1, 5, 1, 0, 6, 2, 3, 2, 1, 7, 5, 1, 9, 8, 3, 6, 9, 7, 3, 0, 2, 3, 9, 4, 4, 3, 9, 6, 8, 6, 6, 8, 5, 4, 3, 6, 7, 7, 4, 3, 9, 6, 2, 4, 0, 1, 3, 6, 4, 9, 2, 6, 0, 3, 8, 7, 5, 3, 3, 8, 3, 2, 6, 3, 6, 2, 7, 4, 5, 7, 9, 0, 0, 6, 7, 2, 8, 5, 5, 7, 5, 5, 9, 4, 6, 4, 7, 3, 3, 6, 4, 1, 6, 3, 1, 6, 7, 0, 5, 0, 1, 9, 7, 3, 5, 2, 3, 9, 5, 6, 4, 0, 0, 0, 8, 0, 3, 2, 4, 5, 3, 7, 9, 6, 9, 3, 1, 2, 6, 7, 4, 5, 1, 3, 7, 6, 9, 5, 8, 5, 8, 5, 8, 5, 6, 5, 0, 8, 3, 8, 1, 8, 1, 5, 0, 9, 8, 6, 3, 6, 3, 4, 4, 7, 4, 7, 4, 3, 2, 4, 5, 5, 7, 5, 4, 5, 8, 0, 5, 4, 0, 5, 4, 3, 3, 2, 4, 2, 9, 4, 8, 8, 6, 2, 6, 1, 7, 0, 4, 3, 8, 5, 9, 7, 6, 7, 1, 0, 2, 3, 5, 6, 7, 1, 6, 2, 8, 3, 7, 2, 5, 7, 5, 7, 7, 1, 7, 4, 3, 3, 4, 0, 4, 2, 7, 0, 2, 2, 6, 6, 2, 5, 2, 6, 0, 6, 1, 2, 9, 0, 0, 1, 5, 5, 1, 6, 7, 8, 5, 6, 3, 3, 6, 0, 9, 9, 2, 2, 6, 1, 4, 6, 2, 5, 7, 8, 8, 5, 6, 4, 3, 2, 3, 4, 4, 4, 8, 9, 2, 6, 0, 9, 7, 9, 8, 7, 7, 3, 8, 2, 9, 3, 5, 7, 5, 8, 7, 3, 7, 0, 7, 1, 6, 2, 4, 0, 0, 2, 9, 8, 2, 8, 7, 7, 5, 5, 0, 1, 2, 9, 6, 1, 0, 1, 0, 6, 5, 0, 5, 7, 4, 4, 8, 3, 5, 3, 7, 2, 5, 8, 3, 5, 7, 3, 7, 0, 5, 4, 5, 6, 9, 3, 5, 3, 8, 2, 4, 2, 2, 6, 7, 6, 0, 5, 5, 8, 4, 5, 6, 1, 3, 5, 4, 7, 3, 0, 7, 2, 0, 1, 2, 4, 9, 6, 4, 5, 9, 7, 7, 6, 7, 4, 3, 1, 6, 9, 4, 8, 0, 3, 1, 6, 4, 4, 2, 1, 4, 6, 3, 0, 8, 9, 7, 6, 8, 4, 8, 1, 4, 5, 9, 4, 7, 1, 4, 5, 3, 1, 2, 6, 4, 7, 1, 5, 9, 3, 1, 4, 8, 7, 7, 0, 4, 3, 4, 6, 7, 7, 5, 4, 4, 4, 3, 6, 6, 1, 9, 9, 7, 9, 4, 3, 2, 9, 8, 5, 0, 6, 9, 0, 9, 7, 8, 5, 4, 4, 9, 4, 2, 6, 6, 9, 9, 7, 9, 9, 0, 5, 1, 1, 8, 6, 9, 9, 5, 6, 5, 5, 9, 7, 9, 4, 5, 4, 3, 3, 9, 8, 8, 3, 4, 8, 4, 0, 4, 0, 7, 2, 8, 0, 2, 0, 7, 4, 0, 6, 3, 3, 1, 7, 4, 6, 5, 0, 4, 9, 5, 6, 6, 3, 0, 5, 2, 6, 3, 3, 8, 0, 8, 5, 4, 2, 9, 5, 0, 5, 4, 8, 2, 7, 6, 5, 7, 8, 2, 0, 1, 8, 2, 4, 8, 4, 3, 0, 4, 0, 1, 9, 3, 0, 3, 6, 5, 5, 2, 8, 5, 0, 8, 7, 5, 2, 4, 3, 7, 0, 2, 3, 1, 0, 0, 2, 1, 2, 1, 4, 6, 7, 1, 0, 5, 2, 5, 9, 2, 5, 6, 7, 1, 9, 3, 6, 1, 0, 2, 9, 4, 2, 9, 3, 8, 2, 9, 8, 5, 1, 0, 1, 5, 2, 5, 6, 8, 8, 3, 5, 0, 4, 1, 3, 7, 0, 3, 3, 9, 2, 3, 9, 9, 8, 5, 9, 7, 2, 0, 9, 4, 7, 1, 7, 6, 4, 4, 8, 9, 0, 7, 1, 2, 4, 0, 3, 7, 5, 1, 9, 3, 5, 2, 4, 1, 1, 3, 3, 9, 2, 5, 8, 0, 8, 1, 5, 1, 5, 9, 0, 9, 2, 4, 0, 6, 9, 1, 1, 3, 4, 9, 5, 3, 3, 3, 3, 4, 1, 5, 9, 8, 7, 4, 8, 7, 3, 5, 2, 5, 8, 9, 7, 2, 0, 0, 7, 5, 3, 5, 7, 4, 6, 2, 8, 2, 7, 7, 6, 1, 3, 8, 6, 2, 0, 4, 4, 8, 6, 4, 0, 2, 5, 4, 1, 2, 5, 4, 6, 9, 5, 0, 5, 2, 0, 8, 2, 6, 4, 7, 9, 5, 7, 2, 6, 2, 1, 9, 9, 7, 2, 5, 1, 8, 1, 6, 3, 0, 8, 8, 5, 6, 9, 9, 9, 6, 3, 0, 8, 8, 5, 3, 3, 1, 1, 0, 7, 0, 6, 0, 4, 4, 6, 5, 3, 2, 9, 6, 6, 7, 9, 7, 7, 0, 8, 4, 2, 7, 7, 7, 4, 0, 1, 6, 0, 5, 3, 0, 2, 4, 9, 7, 3, 3, 2, 8, 8, 5, 3, 8, 0, 8, 0, 0, 0, 2, 2, 7, 0, 7, 7, 7, 2, 2, 0, 4, 0, 3, 7, 8, 4, 7, 9, 6, 1, 1, 6, 9, 3, 8, 9, 5, 8, 3, 9, 4, 3, 7, 5, 5, 2, 7, 5, 7, 9, 6, 3, 0, 8, 4, 5, 6, 1, 0, 4, 8, 4, 7, 1, 3, 2, 0, 9, 1, 8, 8, 6, 8, 1, 7, 1, 0, 9, 7, 6, 4, 5, 8, 2, 1, 2, 5, 8, 1, 1, 8, 8, 0, 9, 0, 0, 4, 3, 3, 5, 6, 6, 3, 1, 4, 4, 7, 8, 0, 1, 4, 8, 4, 6, 2, 2, 2, 6, 3, 4, 0, 8, 1, 3, 8, 3, 8, 9, 1, 6, 1, 9, 8, 2, 0, 4, 7, 4, 0, 0, 7, 6, 8, 9, 8, 6, 2, 8, 8, 0, 1, 1, 0, 7, 7, 4, 4, 7, 7, 2, 6, 6, 7, 4, 5, 4, 0, 9, 4, 7, 2, 5, 3, 2, 2, 7, 6, 2, 6, 4, 9, 6, 8, 3, 8, 5, 5, 2, 3, 4, 5, 2, 7, 5, 1, 5, 3, 7, 8, 8, 9, 6, 0, 9, 2, 6, 0, 0, 1, 4, 1, 3, 5, 1, 8, 9, 6, 2, 6, 9, 5, 6, 5, 9, 1, 4, 2, 8, 9, 5, 4, 7, 0, 3, 7, 1, 6, 9, 1, 1, 4, 0, 5, 1, 6, 3, 0, 2, 5, 5, 5, 2, 8, 2, 3, 1, 6, 2, 7, 0, 8, 9, 2, 6, 4, 7, 5, 5, 8, 8, 7, 8, 5, 7, 4, 4, 0, 0, 7, 0, 4, 0, 4, 4, 2, 5, 4, 0, 7, 7, 7, 0, 4, 6, 2, 9, 1, 1, 5, 0, 9, 1, 0, 6, 5, 3, 0, 9, 0, 6, 2, 0, 4, 1, 6, 7, 6, 1, 0, 4, 6, 0, 4, 4, 2, 7, 6, 5, 3, 5, 9, 4, 5, 2, 0, 5, 7, 2, 3, 9, 4, 5, 8, 1, 9, 3, 1, 8, 5, 8, 6, 6, 3, 4, 0, 2, 3, 2, 6, 1, 8, 2, 1, 3, 6, 2, 2, 3, 3, 5, 0, 2, 1, 2, 8, 0, 8, 2, 2, 7, 3, 5, 9, 8, 3, 6, 1, 0, 8, 6, 3, 5, 8, 9, 4, 8, 0, 0, 2, 9, 1, 8, 3, 7, 2, 8, 0, 9, 4, 8, 9, 4, 8, 9, 5, 4, 8, 1, 5, 5, 7, 2, 5, 8, 8, 1, 2, 3, 1, 5, 0, 2, 3, 0, 8, 2, 2, 8, 7, 3, 5, 3, 9, 6, 3, 5, 1, 1, 7, 7, 3, 3, 8, 9, 6, 0, 8, 0, 6, 6, 4, 6, 9, 1, 1, 7, 0, 6, 8, 9, 0, 6, 9, 0, 1, 1, 7, 2, 1, 0, 4, 5, 0, 3, 6, 3, 3, 8, 1, 8, 1, 3, 1, 5, 4, 5, 1, 8, 9, 1, 3, 1, 7, 2, 9, 8, 9, 4, 6, 0, 9, 4, 0, 4, 6, 2, 1, 3, 0, 8, 5, 6, 0, 3, 4, 6, 9, 5, 7, 9, 0, 3, 6, 5, 7, 0, 5, 1, 2, 2, 9, 7, 0, 0, 1, 4, 4, 5, 5, 9, 6, 3, 6, 2, 6, 9, 3, 2, 3, 2, 4, 9, 5, 2, 1, 6, 6, 4, 7, 6, 3, 3, 8, 1, 4, 6, 4, 4, 5, 6, 2, 0, 5, 2, 7, 5, 2, 5, 2, 5, 9, 0, 6, 7, 9, 8, 3, 2, 1, 4, 3, 4, 5, 5, 6, 8, 6, 0, 8, 9, 8, 0, 7, 7, 6, 6, 7, 5, 9, 8, 7, 9, 5, 6, 0, 4, 8, 2, 0, 9, 1, 3, 9, 8, 3, 7, 4, 5, 0, 2, 1, 9, 1, 0, 5, 8, 4, 7, 3, 1, 4, 5, 3, 1, 0, 8, 8, 8, 2, 1, 3, 7, 3, 1, 6, 9, 1, 6, 0, 7, 7, 1, 3, 3, 3, 1, 0, 2, 7, 1, 2, 2, 9, 6, 3, 5, 9, 4, 8, 0, 4, 8, 0, 1, 3, 7, 0, 4, 7, 4, 8, 6, 4, 3, 9, 8, 2, 2, 8, 3, 1, 1, 2, 8, 2, 6, 9, 4, 8, 4, 4, 1, 5, 2, 6, 9, 2, 0, 7, 1, 8, 9, 3, 9, 9, 0, 7, 7, 5, 4, 2, 6, 4, 5, 7, 7, 8, 7, 2, 6, 2, 2, 4, 4, 0, 7, 1, 3, 9, 6, 0, 0, 2, 3, 8, 2, 2, 4, 3, 5, 2, 9, 1, 0, 0, 6, 5, 5, 7, 9, 9, 6, 5, 5, 0, 5, 7, 1, 6, 6, 4, 1, 4, 4, 1, 5, 0, 0, 4, 5, 8, 4, 8, 3, 0, 5, 0, 5, 3, 1, 6, 7, 0, 9, 1, 5, 7, 6, 5, 5, 5, 6, 0, 0, 1, 7, 5, 1, 9, 2, 4, 1, 3, 7, 8, 2, 0, 9, 6, 6, 0, 6, 5, 8, 2, 7, 4, 0, 2, 7, 7, 8, 8, 7, 0, 4, 9, 1, 4, 4, 3, 5, 4, 6, 2, 3, 1, 0, 3, 3, 3, 6, 3, 1, 2, 8, 9, 7, 9, 3, 8, 7, 3, 1, 7, 7, 3, 2, 2, 8, 9, 5, 9, 2, 1, 7, 4, 4, 0, 5, 7, 1, 5, 4, 0, 8, 4, 9, 8, 7, 8, 4, 2, 3, 4, 0, 5, 4, 1, 8, 2, 5, 4, 5, 2, 5, 3, 7, 9, 7, 1, 4, 1, 3, 1, 4, 5, 5, 1, 7, 1, 3, 0, 1, 2, 5, 7, 0, 6, 3, 5, 7, 5, 5, 8, 9, 4, 6, 3, 6, 6, 8, 2, 6, 4, 8, 4, 1, 3, 1, 2, 3, 3, 0, 1, 6, 4, 2, 8, 2, 4, 3, 1, 4, 4, 4, 4, 1, 5, 5, 7, 6, 5, 4, 5, 6, 5, 6, 2, 4, 7, 7, 4, 6, 5, 0, 2, 3, 9, 2, 3, 8, 0, 7, 0, 6, 8, 1, 2, 8, 9, 1, 5, 4, 2, 3, 5, 5, 3, 6, 5, 0, 3, 2, 1, 3, 3, 7, 7, 4, 9, 4, 3, 9, 5, 1, 7, 6, 6, 4, 8, 5, 1, 2, 8, 4, 5, 3, 3, 3, 0, 4, 8, 7, 7, 9, 4, 8, 4, 5, 9, 1, 8, 3, 1, 3, 8, 0, 3, 5, 4, 6, 9, 2, 7, 2, 0, 5, 2, 9, 7, 5, 0, 7, 0, 3, 5, 5, 3, 8, 7, 7, 9, 6, 5, 8, 9, 0, 1, 9, 4, 0, 0, 1, 7, 2, 2, 8, 5, 9, 8, 2, 8, 0, 6, 6, 8, 6, 9, 6, 1, 1, 5, 3, 5, 0, 7, 6, 1, 4, 4, 1, 1, 8, 1, 1, 2, 3, 4, 9, 9, 5, 2, 7, 3, 3, 6, 9, 6, 9, 8, 8, 6, 7, 4, 7, 2, 3, 8, 0, 9, 0, 7, 8, 1, 2, 3, 2, 4, 2, 9, 0, 3, 8, 9, 6, 5, 5, 2, 4, 1, 0, 6, 1, 8, 4, 5, 5, 5, 0, 8, 9, 0, 5, 7, 9, 6, 3, 4, 6, 4, 9, 7, 1, 2, 5, 2, 8, 0, 2, 2, 9, 8, 1, 9, 7, 7, 3, 1, 4, 1, 1, 3, 8, 8, 1, 9, 3, 8, 9, 5, 1, 1, 6, 2, 7, 2, 6, 2, 6, 9, 6, 0, 1, 3, 9, 3, 8, 8, 8, 2, 9, 1, 2, 6, 0, 5, 0, 7, 7, 7, 9, 4, 5, 0, 2, 3, 5, 5, 8, 9, 1, 2, 7, 1, 3, 4, 6, 9, 1, 0, 7, 1, 9, 5, 8, 1, 9, 9, 7, 9, 8, 3, 0, 2, 6, 0, 2, 2, 4, 0, 8, 4, 8, 1, 2, 7, 2, 7, 9, 5, 2, 2, 9, 2, 6, 5, 7, 2, 5, 6, 5, 1, 8, 2, 6, 8, 6, 3, 0, 8, 0, 0, 9, 9, 6, 8, 0, 6, 6, 0, 7, 9, 8, 0, 5, 0, 9, 6, 0, 4, 7, 1, 7, 8, 8, 2, 3, 9, 6, 5, 5, 3, 1, 5, 3, 0, 2, 5, 2, 7, 3, 8, 4, 4, 6, 1, 9, 4, 1, 7, 0, 1, 4, 3, 0, 2, 9, 4, 5, 0, 3, 4, 7, 2, 3, 0, 1, 3, 7, 9, 9, 0, 7, 5, 6, 7, 1, 2, 2, 7, 4, 6, 8, 4, 9, 8, 4, 9, 2, 3, 4, 0, 2, 5, 6, 0, 5, 3, 5, 8, 3, 7, 4, 9, 5, 6, 3, 8, 6, 9, 8, 5, 5, 8, 3, 5, 9, 0, 4, 2, 0, 5, 9, 9, 3, 8, 0, 6, 0, 2, 3, 7, 0, 0, 6, 9, 1, 5, 2, 2, 7, 9, 3, 9, 3, 5, 2, 2, 2, 8, 8, 5, 0, 0, 7, 0, 3, 1, 6, 5, 0, 9, 2, 6, 7, 4, 2, 0, 0, 5, 3, 3, 2, 6, 4, 2, 7, 8, 0, 1, 0, 1, 3, 6, 4, 8, 0, 6, 0, 9, 1, 6, 2, 1, 0, 1, 3, 0, 3, 7, 9, 9, 3, 7, 5, 7, 1, 6, 6, 1, 1, 1, 4, 4, 2, 1, 7, 0, 1, 2, 1, 1, 3, 2, 6, 9, 1, 3, 2, 0, 8, 7, 3, 4, 6, 4, 6, 9, 4, 8, 9, 3, 0, 5, 7, 2, 0, 2, 9, 9, 3, 8, 7, 1, 1, 2, 2, 2, 5, 9, 1, 2, 6, 1, 2, 1, 8, 9, 2, 3, 1, 9, 9, 4, 4, 5, 5, 0, 3, 3, 7, 1, 7, 7, 9, 8, 6, 3, 5, 5, 1, 6, 2, 7, 8, 4, 3, 3, 5, 9, 6, 8, 5, 1, 0, 6, 7, 0, 9, 6, 2, 0, 8, 7, 1, 2, 6, 9, 1, 6, 4, 7, 1, 9, 0, 0, 5, 2, 8, 3, 8, 2, 8, 4, 0, 8, 3, 6, 1, 2, 3, 0, 5, 0, 4, 1, 7, 2, 0, 1, 3, 9, 1, 6, 1, 6, 1, 2, 8, 7, 0, 9, 5, 8, 0, 0, 1, 7, 9, 7, 1, 9, 2, 1, 9, 4, 3, 6, 0, 2, 0, 0, 9, 9, 8, 9, 4, 5, 4, 3, 0, 7, 8, 7, 3, 7, 5, 4, 6, 5, 9, 5, 2, 4, 2, 7, 9, 6, 7, 4, 7, 1, 2, 3, 1, 1, 3, 6, 8, 3, 7, 7, 0, 8, 1, 5, 2, 5, 5, 3, 6, 3, 5, 9, 8, 4, 6, 8, 0, 4, 1, 7, 8, 4, 9, 7, 2, 6, 3, 8, 8, 6, 7, 3, 8, 1, 1, 5, 3, 7, 9, 9, 9, 8, 5, 9, 9, 6, 8, 8, 4, 8, 1, 0, 1, 8, 8, 6, 5, 9, 0, 6, 1, 2, 6, 6, 3, 5, 6, 5, 5, 3, 3, 6, 8, 9, 4, 4, 3, 8, 3, 6, 0, 8, 5, 7, 8, 4, 6, 5, 3, 1, 8, 3, 0, 4, 4, 3, 3, 5, 3, 3, 2, 7, 7, 8, 2, 0, 5, 5, 6, 1, 1, 3, 9, 9, 3, 6, 7, 1, 8, 3, 9, 8, 7, 8, 8, 0, 3, 2, 4, 8, 7, 5, 7, 1, 8, 7, 3, 5, 4, 4, 3, 8, 6, 1, 1, 6, 3, 2, 2, 8, 9, 8, 3, 3, 8, 1, 1, 0, 5, 2, 0, 5, 0, 5, 8, 6, 3, 9, 6, 6, 3, 9, 4, 8, 3, 4, 3, 1, 1, 2, 9, 7, 8, 5, 5, 8, 6, 9, 0, 8, 3, 5, 1, 3, 3, 5, 5, 3, 8, 1, 4, 6, 4, 2, 4, 3, 8, 9, 6, 6, 6, 5, 5, 2, 7, 7, 4, 4, 9, 3, 8, 3, 7, 7, 8, 5, 3, 9, 1, 6, 7, 3, 3, 3, 8, 5, 6, 1, 3, 7, 9, 6, 1, 6, 4, 9, 0, 5, 7, 4, 9, 1, 0, 0, 2, 7, 8, 3, 2, 7, 6, 1, 6, 6, 4, 4, 2, 1, 8, 4, 4, 7, 8, 5, 8, 9, 4, 3, 2, 2, 9, 3, 0, 1, 1, 1, 1, 6, 8, 7, 1, 3, 0, 4, 5, 0, 3, 0, 6, 2, 0, 9, 8, 6, 8, 5, 8, 2, 9, 6, 0, 6, 1, 8, 7, 3, 2, 2, 6, 5, 6, 9, 2, 5, 4, 9, 8, 5, 3, 9, 3, 5, 7, 1, 8, 5, 8, 6, 2, 5, 1, 3, 0, 4, 1, 9, 5, 4, 9, 2, 1, 4, 2, 5, 9, 8, 7, 2, 1, 6, 9, 7, 3, 6, 5, 8, 0, 2, 2, 4, 9, 0, 5, 5, 4, 2, 3, 1, 0, 3, 0, 4, 4, 9, 1, 3, 3, 0, 2, 1, 1, 0, 4, 1, 9, 4, 8, 1, 1, 1, 5, 9, 8, 1, 6, 7, 2, 9, 9, 7, 8, 8, 1, 9, 7, 8, 9, 1, 6, 6, 3, 3, 1, 3, 0, 8, 8, 3, 6, 6, 7, 1, 0, 7, 6, 4, 8, 2, 0, 6, 6, 8, 6, 3, 1, 1, 8, 6, 7, 0, 5, 4, 3, 2, 1, 7, 8, 2, 0, 1, 7, 4, 8, 7, 6, 6, 7, 0, 6, 4, 9, 2, 3, 2, 1, 3, 8, 6, 8, 1, 9, 6, 7, 6, 5, 0, 6, 0, 1, 3, 1, 1, 5, 3, 4, 3, 3, 8, 1, 6, 6, 1, 8, 8, 6, 2, 7, 4, 6, 8, 9, 3, 3, 5, 5, 3, 1, 4, 1, 9, 5, 1, 7, 7, 7, 5, 2, 3, 3, 6, 6, 6, 4, 0, 7, 1, 7, 3, 0, 8, 1, 2, 4, 1, 2, 2, 4, 9, 8, 2, 8, 7, 6, 3, 4, 7, 2, 3, 1, 5, 3, 0, 4, 3, 4, 9, 4, 7, 9, 1, 7, 8, 3, 1, 8, 3, 2, 5, 7, 2, 7, 9, 6, 8, 6, 8, 6, 5, 9, 0, 4, 8, 5, 6, 4, 3, 8, 0, 4, 8, 6, 7, 2, 7, 1, 7, 4, 1, 2, 4, 2, 2, 8, 7, 2, 2, 6, 7, 5, 6, 8, 9, 9, 6, 5, 2, 9, 8, 7, 2, 3, 3, 7, 4, 3, 2, 1, 9, 0, 1, 5, 3, 2, 6, 5, 9, 1, 5, 4, 3, 6, 2, 8, 9, 7, 8, 0, 8, 9, 1, 2, 5, 7, 2, 0, 6, 6, 1, 6, 3, 1, 5, 0, 3, 7, 4, 6, 5, 6, 4, 8, 3, 4, 5, 5, 0, 6, 6, 7, 5, 0, 9, 9, 6, 1, 0, 4, 6, 3, 6, 9, 3, 6, 6, 8, 2, 1, 0, 1, 9, 3, 7, 4, 3, 0, 2, 7, 6, 4, 3, 0, 8, 2, 0, 0, 9, 6, 6, 6, 8, 7, 4, 1, 8, 1, 2, 2, 4, 8, 5, 2, 6, 5, 3, 9, 1, 0, 7, 2, 4, 4, 0, 0, 6, 2, 2, 4, 0, 5, 9, 7, 1, 8, 4, 5, 5, 9, 8, 5, 7, 8, 0, 9, 8, 9, 1, 6, 3, 8, 0, 3, 4, 4, 8, 4, 8, 9, 8, 6, 0, 0, 8, 2, 7, 4, 2, 5, 6, 0, 5, 8, 4, 1, 9, 0, 1, 4, 4, 8, 4, 9, 6, 0, 7, 7, 6, 8, 9, 6, 2, 0, 4, 9, 4, 9, 3, 9, 6, 6, 7, 0, 9, 7, 1, 8, 6, 0, 6, 7, 4, 1, 9, 4, 6, 7, 9, 8, 3, 9, 2, 1, 2, 7, 6, 1, 0, 0, 5, 6, 0, 4, 3, 2, 8, 8, 0, 6, 9, 5, 2, 8, 7, 0, 6, 5, 9, 7, 2, 3, 6, 9, 6, 2, 2, 4, 1, 0, 5, 0, 8, 9, 3, 5, 9, 3, 8, 1, 6, 3, 7, 5, 6, 2, 0, 2, 8, 2, 8, 7, 7, 8, 1, 0, 8, 9, 7, 0, 3, 8, 0, 5, 9, 5, 8, 4, 2, 0, 9, 2, 2, 4, 4, 9, 2, 2, 2, 5, 1, 3, 2, 0, 0, 4, 0, 6, 5, 8, 0, 5, 8, 6, 4, 8, 5, 2, 9, 7, 9, 7, 1, 0, 1, 9, 6, 9, 2, 7, 9, 4, 4, 0, 6, 2, 4, 1, 3, 7, 2, 8, 5, 9, 0, 3, 2, 3, 2, 7, 6, 3, 2, 5, 9, 0, 5, 9, 9, 8, 7, 7, 4, 8, 6, 5, 2, 3, 1, 0, 4, 1, 8, 8, 4, 9, 4, 4, 3, 3, 9, 2, 0, 1, 1, 8, 4, 4, 8, 3, 2, 9, 5, 7, 6, 2, 5, 4, 7, 3, 3, 9, 0, 1, 5, 9, 3, 7, 6, 0, 4, 2, 2, 5, 6, 3, 8, 9, 5, 6, 1, 4, 5, 4, 6, 7, 2, 1, 0, 2, 0, 4, 9, 8, 8, 9, 1, 1, 5, 0, 0, 8, 7, 1, 7, 4, 5, 4, 3, 3, 2, 0, 6, 6, 0, 1, 3, 9, 8, 3, 7, 8, 9, 4, 8, 9, 0, 9, 7, 1, 6, 2, 9, 5, 6, 9, 3, 9, 8, 7, 7, 1, 6, 5, 3, 1, 3, 1, 2, 7, 1, 8, 2, 0, 9, 7, 9, 8, 8, 6, 7, 3, 7, 1, 3, 9, 0, 9, 3, 6, 7, 2, 7, 3, 0, 5, 9, 7, 5, 5, 0, 6, 5, 1, 8, 2, 7, 5, 9, 0, 0, 0, 8, 8, 7, 3, 7, 8, 9, 3, 7, 9, 7, 8, 7, 9, 8, 5, 4, 8, 3, 7, 6, 3, 8, 2, 1, 9, 5, 7, 3, 9, 5, 5, 8, 7, 3, 5, 3, 5, 9, 7, 6, 7, 3, 6, 4, 3, 9, 4, 2, 1, 9, 6, 0, 2, 6, 7, 4, 7, 9, 0, 7, 4, 3, 5, 3, 1, 1, 2, 6, 8, 2, 1, 7, 8, 5, 9, 6, 1, 1, 5, 0, 6, 0, 9, 2, 6, 5, 8, 9, 5, 5, 6, 2, 9, 1, 5, 8, 8, 7, 1, 7, 3, 5, 4, 9, 7, 5, 2, 9, 9, 4, 7, 4, 1, 3, 8, 7, 9, 0, 4, 5, 7, 5, 2, 8, 7, 6, 9, 6, 9, 3, 8, 5, 6, 6, 9, 5, 7, 8, 0, 5, 0, 7, 4, 8, 2, 5, 1, 3, 2, 2, 6, 2, 1, 7, 4, 6, 3, 1, 3, 7, 2, 1, 3, 7, 0, 8, 4, 4, 5, 7, 9, 5, 4, 3, 9, 6, 8, 2, 3, 3, 1, 6, 1, 7, 0, 3, 4, 2, 9, 4, 5, 8, 2, 7, 0, 9, 6, 8, 0, 8, 2, 8, 5, 7, 7, 2, 2, 0, 0, 0, 7, 4, 1, 6, 6, 8, 8, 9, 0, 9, 0, 1, 3, 3, 0, 9, 6, 6, 2, 6, 3, 4, 0, 8, 4, 1, 4, 0, 6, 5, 0, 9, 9, 9, 9, 1, 2, 3, 5, 4, 2, 9, 6, 0, 9, 6, 6, 8, 0, 6, 1, 4, 6, 8, 0, 5, 4, 1, 2, 0, 9, 6, 4, 2, 4, 6, 5, 9, 7, 7, 4, 6, 5, 0, 1, 9, 0, 3, 1, 9, 0, 9, 7, 8, 6, 7, 6, 8, 2, 4, 5, 3, 0, 3, 2, 1, 7, 5, 9, 3, 4, 5, 7, 1, 5, 0, 1, 1, 1, 9, 7, 5, 4, 9, 7, 8, 1, 0, 2, 8, 5, 6, 7, 0, 1, 4, 8, 4, 4, 6, 6, 5, 8, 1, 8, 4, 6, 5, 9, 2, 2, 1, 4, 9, 1, 6, 7, 2, 0, 1, 7, 6, 5, 2, 2, 5, 6, 0, 9, 0, 1, 5, 3, 3, 5, 8, 7, 5, 6, 5, 8, 0, 5, 9, 4, 6, 5, 1, 1, 0, 3, 3, 9, 4, 8, 1, 7, 7, 9, 9, 4, 3, 6, 3, 2, 8, 2, 7, 6, 7, 0, 2, 1, 2, 9, 4, 6, 9, 6, 1, 0, 1, 8, 7, 0, 0, 4, 7, 4, 2, 6, 9, 5, 9, 0, 7, 4, 5, 8, 1, 4, 7, 9, 9, 8, 8, 6, 3, 7, 0, 8, 9, 6, 2, 4, 6, 2, 9, 7, 4, 6, 8, 5, 6, 1, 3, 5, 9, 9, 1, 3, 2, 0, 3, 0, 2, 0, 7, 3, 9, 3, 5, 7, 6, 5, 9, 5, 6, 1, 2, 4, 0, 2, 7, 8, 4, 4, 0, 9, 5, 9, 2, 9, 3, 2, 4, 3, 2, 2, 8, 8, 6, 8, 1, 6, 8, 9, 8, 2, 1, 4, 9, 1, 5, 7, 1, 6, 0, 1, 5, 2, 8, 1, 1, 3, 8, 1, 3, 1, 8, 5, 1, 9, 0, 3, 0, 4, 0, 5, 1, 2, 0, 4, 9, 5, 1, 2, 2, 7, 8, 7, 2, 4, 5, 3, 4, 0, 6, 1, 5, 9, 8, 0, 2, 0, 7, 6, 0, 5, 9, 7, 5, 0, 4, 6, 0, 6, 3, 6, 8, 1, 1, 8, 9, 7, 2, 9, 0, 2, 2, 9, 0, 6, 5, 7, 7, 9, 1, 7, 9, 8, 4, 5, 0, 8, 0, 2, 5, 2, 1, 4, 4, 8, 9, 7, 8, 3, 6, 6, 0, 1, 1, 1, 8, 1, 4, 4, 0, 7, 8, 2, 1, 2, 5, 4, 6, 0, 5, 7, 4, 4, 3, 9, 5, 8, 8, 0, 8, 7, 4, 1, 8, 4, 9, 5, 4, 1, 7, 7, 7, 7, 0, 3, 8, 3, 3, 0, 5, 7, 0, 8, 0, 0, 9, 2, 2, 3, 4, 8, 2, 2, 6, 3, 3, 6, 2, 9, 4, 0, 1, 7, 5, 5, 7, 3, 0, 4, 2, 0, 7, 5, 8, 0, 8, 2, 7, 0, 3, 5, 3, 8, 3, 5, 1, 7]\n",
    "\n",
    "# Check accuracy\n",
    "i = 0\n",
    "misclassified = 0\n",
    "\n",
    "filepath = \"test_submit.csv\" # Path to your output file\n",
    "with open(filepath, \"r\") as f:\n",
    "    next(f) # Skip first line in file\n",
    "    for line in f:\n",
    "        pred = int(line.split(\",\")[1])\n",
    "        if pred != labels[i]:\n",
    "            misclassified += 1\n",
    "        \n",
    "        i += 1\n",
    "\n",
    "error = misclassified / i\n",
    "print(\"N=\" + str(i) + \"   error=\" + str(error) + \"   accuracy=\" + str(1 - error))"
   ]
  },
  {
   "cell_type": "markdown",
   "metadata": {},
   "source": [
    "## Citations"
   ]
  },
  {
   "cell_type": "markdown",
   "metadata": {},
   "source": [
    "Tensorflow Tutorial:\n",
    "\n",
    "https://www.tensorflow.org/tutorials/layers\n",
    "    https://github.com/tensorflow/tensorflow/blob/r1.5/tensorflow/examples/tutorials/layers/cnn_mnist.py    \n",
    "\n",
    "https://github.com/tensorflow/models/blob/master/tutorials/image/cifar10/cifar10_input.py (useful for data augmentation)\n",
    "\n",
    "Tensorboard Tutorial:\n",
    "\n",
    "https://github.com/dandelionmane/tf-dev-summit-tensorboard-tutorial/blob/master/mnist.py"
   ]
  }
 ],
 "metadata": {
  "anaconda-cloud": {},
  "kernelspec": {
   "display_name": "Python [default]",
   "language": "python",
   "name": "python3"
  },
  "language_info": {
   "codemirror_mode": {
    "name": "ipython",
    "version": 3
   },
   "file_extension": ".py",
   "mimetype": "text/x-python",
   "name": "python",
   "nbconvert_exporter": "python",
   "pygments_lexer": "ipython3",
   "version": "3.5.2"
  }
 },
 "nbformat": 4,
 "nbformat_minor": 2
}
